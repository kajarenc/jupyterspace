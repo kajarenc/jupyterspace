{
 "cells": [
  {
   "cell_type": "code",
   "execution_count": 1,
   "metadata": {},
   "outputs": [],
   "source": [
    "from dotenv import load_dotenv\n",
    "\n",
    "_ = load_dotenv()"
   ]
  },
  {
   "cell_type": "code",
   "execution_count": 2,
   "metadata": {},
   "outputs": [],
   "source": [
    "from langgraph.graph import StateGraph, END\n",
    "from typing import TypedDict, Annotated\n",
    "import operator\n",
    "from langchain_core.messages import AnyMessage, SystemMessage, HumanMessage, ToolMessage\n",
    "from langchain_openai import ChatOpenAI\n",
    "from langchain_community.tools.tavily_search import TavilySearchResults\n",
    "from langgraph.checkpoint.sqlite import SqliteSaver\n",
    "\n",
    "memory = SqliteSaver.from_conn_string(\":memory:\")"
   ]
  },
  {
   "cell_type": "code",
   "execution_count": 3,
   "metadata": {},
   "outputs": [],
   "source": [
    "from uuid import uuid4\n",
    "from langchain_core.messages import AnyMessage, SystemMessage, HumanMessage, AIMessage\n",
    "\n",
    "\"\"\"\n",
    "In previous examples we've annotated the `messages` state key\n",
    "with the default `operator.add` or `+` reducer, which always\n",
    "appends new messages to the end of the existing messages array.\n",
    "\n",
    "Now, to support replacing existing messages, we annotate the\n",
    "`messages` key with a customer reducer function, which replaces\n",
    "messages with the same `id`, and appends them otherwise.\n",
    "\"\"\"\n",
    "def reduce_messages(left: list[AnyMessage], right: list[AnyMessage]) -> list[AnyMessage]:\n",
    "    # assign ids to messages that don't have them\n",
    "    for message in right:\n",
    "        if not message.id:\n",
    "            message.id = str(uuid4())\n",
    "    # merge the new messages with the existing messages\n",
    "    merged = left.copy()\n",
    "    for message in right:\n",
    "        for i, existing in enumerate(merged):\n",
    "            # replace any existing messages with the same id\n",
    "            if existing.id == message.id:\n",
    "                merged[i] = message\n",
    "                break\n",
    "        else:\n",
    "            # append any new messages to the end\n",
    "            merged.append(message)\n",
    "    return merged\n",
    "\n",
    "class AgentState(TypedDict):\n",
    "    messages: Annotated[list[AnyMessage], reduce_messages]"
   ]
  },
  {
   "cell_type": "code",
   "execution_count": 4,
   "metadata": {},
   "outputs": [],
   "source": [
    "tool = TavilySearchResults(max_results=2)"
   ]
  },
  {
   "cell_type": "code",
   "execution_count": 7,
   "metadata": {},
   "outputs": [],
   "source": [
    "class Agent:\n",
    "    def __init__(self, model, tools, system=\"\", checkpointer=None):\n",
    "        self.system = system\n",
    "        graph = StateGraph(AgentState)\n",
    "        graph.add_node(\"llm\", self.call_openai)\n",
    "        graph.add_node(\"action\", self.take_action)\n",
    "        graph.add_conditional_edges(\"llm\", self.exists_action, {True: \"action\", False: END})\n",
    "        graph.add_edge(\"action\", \"llm\")\n",
    "        graph.set_entry_point(\"llm\")\n",
    "        self.graph = graph.compile(\n",
    "            checkpointer=checkpointer,\n",
    "            interrupt_before=[\"action\"]\n",
    "        )\n",
    "        self.tools = {t.name: t for t in tools}\n",
    "        self.model = model.bind_tools(tools)\n",
    "\n",
    "    def call_openai(self, state: AgentState):\n",
    "        messages = state['messages']\n",
    "        if self.system:\n",
    "            messages = [SystemMessage(content=self.system)] + messages\n",
    "        message = self.model.invoke(messages)\n",
    "        return {'messages': [message]}\n",
    "\n",
    "    def exists_action(self, state: AgentState):\n",
    "        print(state)\n",
    "        result = state['messages'][-1]\n",
    "        return len(result.tool_calls) > 0\n",
    "\n",
    "    def take_action(self, state: AgentState):\n",
    "        tool_calls = state['messages'][-1].tool_calls\n",
    "        results = []\n",
    "        for t in tool_calls:\n",
    "            print(f\"Calling: {t}\")\n",
    "            result = self.tools[t['name']].invoke(t['args'])\n",
    "            results.append(ToolMessage(tool_call_id=t['id'], name=t['name'], content=str(result)))\n",
    "        print(\"Back to the model!\")\n",
    "        return {'messages': results}"
   ]
  },
  {
   "cell_type": "code",
   "execution_count": 8,
   "metadata": {},
   "outputs": [],
   "source": [
    "prompt = \"\"\"You are a smart research assistant. Use the search engine to look up information. \\\n",
    "You are allowed to make multiple calls (either together or in sequence). \\\n",
    "Only look up information when you are sure of what you want. \\\n",
    "If you need to look up some information before asking a follow up question, you are allowed to do that!\n",
    "\"\"\"\n",
    "model = ChatOpenAI(model=\"gpt-3.5-turbo\")\n",
    "abot = Agent(model, [tool], system=prompt, checkpointer=memory)"
   ]
  },
  {
   "cell_type": "code",
   "execution_count": 9,
   "metadata": {},
   "outputs": [
    {
     "name": "stdout",
     "output_type": "stream",
     "text": [
      "{'messages': [HumanMessage(content='Whats the weather in SF?', id='b2a9460e-617f-4eae-b67d-e8e9b977fa95'), AIMessage(content='', additional_kwargs={'tool_calls': [{'id': 'call_aMgdD7AoorYiGWtKrMhiwnqI', 'function': {'arguments': '{\"query\":\"weather in San Francisco\"}', 'name': 'tavily_search_results_json'}, 'type': 'function'}]}, response_metadata={'token_usage': {'completion_tokens': 21, 'prompt_tokens': 152, 'total_tokens': 173}, 'model_name': 'gpt-3.5-turbo-0125', 'system_fingerprint': None, 'finish_reason': 'tool_calls', 'logprobs': None}, id='run-d07c7d64-311c-4bf6-888c-ba469609b710-0', tool_calls=[{'name': 'tavily_search_results_json', 'args': {'query': 'weather in San Francisco'}, 'id': 'call_aMgdD7AoorYiGWtKrMhiwnqI'}], usage_metadata={'input_tokens': 152, 'output_tokens': 21, 'total_tokens': 173})]}\n",
      "{'messages': [AIMessage(content='', additional_kwargs={'tool_calls': [{'id': 'call_aMgdD7AoorYiGWtKrMhiwnqI', 'function': {'arguments': '{\"query\":\"weather in San Francisco\"}', 'name': 'tavily_search_results_json'}, 'type': 'function'}]}, response_metadata={'token_usage': {'completion_tokens': 21, 'prompt_tokens': 152, 'total_tokens': 173}, 'model_name': 'gpt-3.5-turbo-0125', 'system_fingerprint': None, 'finish_reason': 'tool_calls', 'logprobs': None}, id='run-d07c7d64-311c-4bf6-888c-ba469609b710-0', tool_calls=[{'name': 'tavily_search_results_json', 'args': {'query': 'weather in San Francisco'}, 'id': 'call_aMgdD7AoorYiGWtKrMhiwnqI'}], usage_metadata={'input_tokens': 152, 'output_tokens': 21, 'total_tokens': 173})]}\n"
     ]
    }
   ],
   "source": [
    "messages = [HumanMessage(content=\"Whats the weather in SF?\")]\n",
    "thread = {\"configurable\": {\"thread_id\": \"1\"}}\n",
    "for event in abot.graph.stream({\"messages\": messages}, thread):\n",
    "    for v in event.values():\n",
    "        print(v)"
   ]
  },
  {
   "cell_type": "code",
   "execution_count": 11,
   "metadata": {},
   "outputs": [
    {
     "data": {
      "text/plain": [
       "StateSnapshot(values={'messages': [HumanMessage(content='Whats the weather in SF?', id='b2a9460e-617f-4eae-b67d-e8e9b977fa95'), AIMessage(content='', additional_kwargs={'tool_calls': [{'id': 'call_aMgdD7AoorYiGWtKrMhiwnqI', 'function': {'arguments': '{\"query\":\"weather in San Francisco\"}', 'name': 'tavily_search_results_json'}, 'type': 'function'}]}, response_metadata={'token_usage': {'completion_tokens': 21, 'prompt_tokens': 152, 'total_tokens': 173}, 'model_name': 'gpt-3.5-turbo-0125', 'system_fingerprint': None, 'finish_reason': 'tool_calls', 'logprobs': None}, id='run-d07c7d64-311c-4bf6-888c-ba469609b710-0', tool_calls=[{'name': 'tavily_search_results_json', 'args': {'query': 'weather in San Francisco'}, 'id': 'call_aMgdD7AoorYiGWtKrMhiwnqI'}], usage_metadata={'input_tokens': 152, 'output_tokens': 21, 'total_tokens': 173})]}, next=('action',), config={'configurable': {'thread_id': '1', 'thread_ts': '1ef31516-98c0-694c-8001-a2d1fc387e0a'}}, metadata={'source': 'loop', 'step': 1, 'writes': {'llm': {'messages': [AIMessage(content='', additional_kwargs={'tool_calls': [{'id': 'call_aMgdD7AoorYiGWtKrMhiwnqI', 'function': {'arguments': '{\"query\":\"weather in San Francisco\"}', 'name': 'tavily_search_results_json'}, 'type': 'function'}]}, response_metadata={'token_usage': {'completion_tokens': 21, 'prompt_tokens': 152, 'total_tokens': 173}, 'model_name': 'gpt-3.5-turbo-0125', 'system_fingerprint': None, 'finish_reason': 'tool_calls', 'logprobs': None}, id='run-d07c7d64-311c-4bf6-888c-ba469609b710-0', tool_calls=[{'name': 'tavily_search_results_json', 'args': {'query': 'weather in San Francisco'}, 'id': 'call_aMgdD7AoorYiGWtKrMhiwnqI'}], usage_metadata={'input_tokens': 152, 'output_tokens': 21, 'total_tokens': 173})]}}}, created_at='2024-06-23T11:12:00.467169+00:00', parent_config={'configurable': {'thread_id': '1', 'thread_ts': '1ef31516-8cc5-61e2-8000-b487b39170cb'}})"
      ]
     },
     "execution_count": 11,
     "metadata": {},
     "output_type": "execute_result"
    }
   ],
   "source": [
    "abot.graph.get_state(thread)"
   ]
  },
  {
   "cell_type": "code",
   "execution_count": 12,
   "metadata": {},
   "outputs": [
    {
     "data": {
      "text/plain": [
       "('action',)"
      ]
     },
     "execution_count": 12,
     "metadata": {},
     "output_type": "execute_result"
    }
   ],
   "source": [
    "abot.graph.get_state(thread).next"
   ]
  },
  {
   "cell_type": "code",
   "execution_count": 13,
   "metadata": {},
   "outputs": [
    {
     "name": "stdout",
     "output_type": "stream",
     "text": [
      "Calling: {'name': 'tavily_search_results_json', 'args': {'query': 'weather in San Francisco'}, 'id': 'call_aMgdD7AoorYiGWtKrMhiwnqI'}\n",
      "Back to the model!\n",
      "{'messages': [ToolMessage(content='[{\\'url\\': \\'https://world-weather.info/forecast/usa/san_francisco/june-2024/\\', \\'content\\': \\'Extended weather forecast in San Francisco. Hourly Week 10 days 14 days 30 days Year. Detailed ⚡ San Francisco Weather Forecast for June 2024 - day/night 🌡️ temperatures, precipitations - World-Weather.info.\\'}, {\\'url\\': \\'https://www.weatherapi.com/\\', \\'content\\': \"{\\'location\\': {\\'name\\': \\'San Francisco\\', \\'region\\': \\'California\\', \\'country\\': \\'United States of America\\', \\'lat\\': 37.78, \\'lon\\': -122.42, \\'tz_id\\': \\'America/Los_Angeles\\', \\'localtime_epoch\\': 1719141102, \\'localtime\\': \\'2024-06-23 4:11\\'}, \\'current\\': {\\'last_updated_epoch\\': 1719140400, \\'last_updated\\': \\'2024-06-23 04:00\\', \\'temp_c\\': 14.4, \\'temp_f\\': 57.9, \\'is_day\\': 0, \\'condition\\': {\\'text\\': \\'Clear\\', \\'icon\\': \\'//cdn.weatherapi.com/weather/64x64/night/113.png\\', \\'code\\': 1000}, \\'wind_mph\\': 5.6, \\'wind_kph\\': 9.0, \\'wind_degree\\': 330, \\'wind_dir\\': \\'NNW\\', \\'pressure_mb\\': 1011.0, \\'pressure_in\\': 29.85, \\'precip_mm\\': 0.0, \\'precip_in\\': 0.0, \\'humidity\\': 84, \\'cloud\\': 0, \\'feelslike_c\\': 13.7, \\'feelslike_f\\': 56.6, \\'windchill_c\\': 10.3, \\'windchill_f\\': 50.6, \\'heatindex_c\\': 11.6, \\'heatindex_f\\': 52.9, \\'dewpoint_c\\': 9.9, \\'dewpoint_f\\': 49.8, \\'vis_km\\': 16.0, \\'vis_miles\\': 9.0, \\'uv\\': 1.0, \\'gust_mph\\': 12.3, \\'gust_kph\\': 19.7}}\"}]', name='tavily_search_results_json', tool_call_id='call_aMgdD7AoorYiGWtKrMhiwnqI')]}\n",
      "{'messages': [HumanMessage(content='Whats the weather in SF?', id='b2a9460e-617f-4eae-b67d-e8e9b977fa95'), AIMessage(content='', additional_kwargs={'tool_calls': [{'id': 'call_aMgdD7AoorYiGWtKrMhiwnqI', 'function': {'arguments': '{\"query\":\"weather in San Francisco\"}', 'name': 'tavily_search_results_json'}, 'type': 'function'}]}, response_metadata={'token_usage': {'completion_tokens': 21, 'prompt_tokens': 152, 'total_tokens': 173}, 'model_name': 'gpt-3.5-turbo-0125', 'system_fingerprint': None, 'finish_reason': 'tool_calls', 'logprobs': None}, id='run-d07c7d64-311c-4bf6-888c-ba469609b710-0', tool_calls=[{'name': 'tavily_search_results_json', 'args': {'query': 'weather in San Francisco'}, 'id': 'call_aMgdD7AoorYiGWtKrMhiwnqI'}], usage_metadata={'input_tokens': 152, 'output_tokens': 21, 'total_tokens': 173}), ToolMessage(content='[{\\'url\\': \\'https://world-weather.info/forecast/usa/san_francisco/june-2024/\\', \\'content\\': \\'Extended weather forecast in San Francisco. Hourly Week 10 days 14 days 30 days Year. Detailed ⚡ San Francisco Weather Forecast for June 2024 - day/night 🌡️ temperatures, precipitations - World-Weather.info.\\'}, {\\'url\\': \\'https://www.weatherapi.com/\\', \\'content\\': \"{\\'location\\': {\\'name\\': \\'San Francisco\\', \\'region\\': \\'California\\', \\'country\\': \\'United States of America\\', \\'lat\\': 37.78, \\'lon\\': -122.42, \\'tz_id\\': \\'America/Los_Angeles\\', \\'localtime_epoch\\': 1719141102, \\'localtime\\': \\'2024-06-23 4:11\\'}, \\'current\\': {\\'last_updated_epoch\\': 1719140400, \\'last_updated\\': \\'2024-06-23 04:00\\', \\'temp_c\\': 14.4, \\'temp_f\\': 57.9, \\'is_day\\': 0, \\'condition\\': {\\'text\\': \\'Clear\\', \\'icon\\': \\'//cdn.weatherapi.com/weather/64x64/night/113.png\\', \\'code\\': 1000}, \\'wind_mph\\': 5.6, \\'wind_kph\\': 9.0, \\'wind_degree\\': 330, \\'wind_dir\\': \\'NNW\\', \\'pressure_mb\\': 1011.0, \\'pressure_in\\': 29.85, \\'precip_mm\\': 0.0, \\'precip_in\\': 0.0, \\'humidity\\': 84, \\'cloud\\': 0, \\'feelslike_c\\': 13.7, \\'feelslike_f\\': 56.6, \\'windchill_c\\': 10.3, \\'windchill_f\\': 50.6, \\'heatindex_c\\': 11.6, \\'heatindex_f\\': 52.9, \\'dewpoint_c\\': 9.9, \\'dewpoint_f\\': 49.8, \\'vis_km\\': 16.0, \\'vis_miles\\': 9.0, \\'uv\\': 1.0, \\'gust_mph\\': 12.3, \\'gust_kph\\': 19.7}}\"}]', name='tavily_search_results_json', id='74e8d9e6-2506-4b28-98d3-27c87c87d2db', tool_call_id='call_aMgdD7AoorYiGWtKrMhiwnqI'), AIMessage(content='The current weather in San Francisco is as follows:\\n- Temperature: 57.9°F\\n- Condition: Clear\\n- Wind: 5.6 mph NNW\\n- Humidity: 84%\\n- Visibility: 9.0 miles\\n\\nIf you need more detailed information or a forecast, please let me know!', response_metadata={'token_usage': {'completion_tokens': 67, 'prompt_tokens': 676, 'total_tokens': 743}, 'model_name': 'gpt-3.5-turbo-0125', 'system_fingerprint': None, 'finish_reason': 'stop', 'logprobs': None}, id='run-8c605261-c230-4e2c-802a-54be866ec5a7-0', usage_metadata={'input_tokens': 676, 'output_tokens': 67, 'total_tokens': 743})]}\n",
      "{'messages': [AIMessage(content='The current weather in San Francisco is as follows:\\n- Temperature: 57.9°F\\n- Condition: Clear\\n- Wind: 5.6 mph NNW\\n- Humidity: 84%\\n- Visibility: 9.0 miles\\n\\nIf you need more detailed information or a forecast, please let me know!', response_metadata={'token_usage': {'completion_tokens': 67, 'prompt_tokens': 676, 'total_tokens': 743}, 'model_name': 'gpt-3.5-turbo-0125', 'system_fingerprint': None, 'finish_reason': 'stop', 'logprobs': None}, id='run-8c605261-c230-4e2c-802a-54be866ec5a7-0', usage_metadata={'input_tokens': 676, 'output_tokens': 67, 'total_tokens': 743})]}\n"
     ]
    }
   ],
   "source": [
    "for event in abot.graph.stream(None, thread):\n",
    "    for v in event.values():\n",
    "        print(v)"
   ]
  },
  {
   "cell_type": "code",
   "execution_count": 14,
   "metadata": {},
   "outputs": [
    {
     "data": {
      "text/plain": [
       "StateSnapshot(values={'messages': [HumanMessage(content='Whats the weather in SF?', id='b2a9460e-617f-4eae-b67d-e8e9b977fa95'), AIMessage(content='', additional_kwargs={'tool_calls': [{'id': 'call_aMgdD7AoorYiGWtKrMhiwnqI', 'function': {'arguments': '{\"query\":\"weather in San Francisco\"}', 'name': 'tavily_search_results_json'}, 'type': 'function'}]}, response_metadata={'token_usage': {'completion_tokens': 21, 'prompt_tokens': 152, 'total_tokens': 173}, 'model_name': 'gpt-3.5-turbo-0125', 'system_fingerprint': None, 'finish_reason': 'tool_calls', 'logprobs': None}, id='run-d07c7d64-311c-4bf6-888c-ba469609b710-0', tool_calls=[{'name': 'tavily_search_results_json', 'args': {'query': 'weather in San Francisco'}, 'id': 'call_aMgdD7AoorYiGWtKrMhiwnqI'}], usage_metadata={'input_tokens': 152, 'output_tokens': 21, 'total_tokens': 173}), ToolMessage(content='[{\\'url\\': \\'https://world-weather.info/forecast/usa/san_francisco/june-2024/\\', \\'content\\': \\'Extended weather forecast in San Francisco. Hourly Week 10 days 14 days 30 days Year. Detailed ⚡ San Francisco Weather Forecast for June 2024 - day/night 🌡️ temperatures, precipitations - World-Weather.info.\\'}, {\\'url\\': \\'https://www.weatherapi.com/\\', \\'content\\': \"{\\'location\\': {\\'name\\': \\'San Francisco\\', \\'region\\': \\'California\\', \\'country\\': \\'United States of America\\', \\'lat\\': 37.78, \\'lon\\': -122.42, \\'tz_id\\': \\'America/Los_Angeles\\', \\'localtime_epoch\\': 1719141102, \\'localtime\\': \\'2024-06-23 4:11\\'}, \\'current\\': {\\'last_updated_epoch\\': 1719140400, \\'last_updated\\': \\'2024-06-23 04:00\\', \\'temp_c\\': 14.4, \\'temp_f\\': 57.9, \\'is_day\\': 0, \\'condition\\': {\\'text\\': \\'Clear\\', \\'icon\\': \\'//cdn.weatherapi.com/weather/64x64/night/113.png\\', \\'code\\': 1000}, \\'wind_mph\\': 5.6, \\'wind_kph\\': 9.0, \\'wind_degree\\': 330, \\'wind_dir\\': \\'NNW\\', \\'pressure_mb\\': 1011.0, \\'pressure_in\\': 29.85, \\'precip_mm\\': 0.0, \\'precip_in\\': 0.0, \\'humidity\\': 84, \\'cloud\\': 0, \\'feelslike_c\\': 13.7, \\'feelslike_f\\': 56.6, \\'windchill_c\\': 10.3, \\'windchill_f\\': 50.6, \\'heatindex_c\\': 11.6, \\'heatindex_f\\': 52.9, \\'dewpoint_c\\': 9.9, \\'dewpoint_f\\': 49.8, \\'vis_km\\': 16.0, \\'vis_miles\\': 9.0, \\'uv\\': 1.0, \\'gust_mph\\': 12.3, \\'gust_kph\\': 19.7}}\"}]', name='tavily_search_results_json', id='74e8d9e6-2506-4b28-98d3-27c87c87d2db', tool_call_id='call_aMgdD7AoorYiGWtKrMhiwnqI'), AIMessage(content='The current weather in San Francisco is as follows:\\n- Temperature: 57.9°F\\n- Condition: Clear\\n- Wind: 5.6 mph NNW\\n- Humidity: 84%\\n- Visibility: 9.0 miles\\n\\nIf you need more detailed information or a forecast, please let me know!', response_metadata={'token_usage': {'completion_tokens': 67, 'prompt_tokens': 676, 'total_tokens': 743}, 'model_name': 'gpt-3.5-turbo-0125', 'system_fingerprint': None, 'finish_reason': 'stop', 'logprobs': None}, id='run-8c605261-c230-4e2c-802a-54be866ec5a7-0', usage_metadata={'input_tokens': 676, 'output_tokens': 67, 'total_tokens': 743})]}, next=(), config={'configurable': {'thread_id': '1', 'thread_ts': '1ef31517-f83a-60c0-8003-9d2ea6821104'}}, metadata={'source': 'loop', 'step': 3, 'writes': {'llm': {'messages': [AIMessage(content='The current weather in San Francisco is as follows:\\n- Temperature: 57.9°F\\n- Condition: Clear\\n- Wind: 5.6 mph NNW\\n- Humidity: 84%\\n- Visibility: 9.0 miles\\n\\nIf you need more detailed information or a forecast, please let me know!', response_metadata={'token_usage': {'completion_tokens': 67, 'prompt_tokens': 676, 'total_tokens': 743}, 'model_name': 'gpt-3.5-turbo-0125', 'system_fingerprint': None, 'finish_reason': 'stop', 'logprobs': None}, id='run-8c605261-c230-4e2c-802a-54be866ec5a7-0', usage_metadata={'input_tokens': 676, 'output_tokens': 67, 'total_tokens': 743})]}}}, created_at='2024-06-23T11:12:37.321934+00:00', parent_config={'configurable': {'thread_id': '1', 'thread_ts': '1ef31517-e785-6b9e-8002-908c002b4862'}})"
      ]
     },
     "execution_count": 14,
     "metadata": {},
     "output_type": "execute_result"
    }
   ],
   "source": [
    "abot.graph.get_state(thread)"
   ]
  },
  {
   "cell_type": "code",
   "execution_count": 15,
   "metadata": {},
   "outputs": [
    {
     "data": {
      "text/plain": [
       "()"
      ]
     },
     "execution_count": 15,
     "metadata": {},
     "output_type": "execute_result"
    }
   ],
   "source": [
    "abot.graph.get_state(thread).next"
   ]
  },
  {
   "cell_type": "code",
   "execution_count": 16,
   "metadata": {},
   "outputs": [
    {
     "name": "stdout",
     "output_type": "stream",
     "text": [
      "{'messages': [HumanMessage(content='Whats the weather in LA?', id='94270536-f714-429d-b976-15ba664dbeb3'), AIMessage(content='', additional_kwargs={'tool_calls': [{'id': 'call_Og5snzEMjgyX7C7HVBVB22GV', 'function': {'arguments': '{\"query\":\"current weather in Los Angeles\"}', 'name': 'tavily_search_results_json'}, 'type': 'function'}]}, response_metadata={'token_usage': {'completion_tokens': 22, 'prompt_tokens': 152, 'total_tokens': 174}, 'model_name': 'gpt-3.5-turbo-0125', 'system_fingerprint': None, 'finish_reason': 'tool_calls', 'logprobs': None}, id='run-2c0d1cd2-753e-45af-a27a-b99c6fcb53d9-0', tool_calls=[{'name': 'tavily_search_results_json', 'args': {'query': 'current weather in Los Angeles'}, 'id': 'call_Og5snzEMjgyX7C7HVBVB22GV'}], usage_metadata={'input_tokens': 152, 'output_tokens': 22, 'total_tokens': 174})]}\n",
      "{'messages': [AIMessage(content='', additional_kwargs={'tool_calls': [{'id': 'call_Og5snzEMjgyX7C7HVBVB22GV', 'function': {'arguments': '{\"query\":\"current weather in Los Angeles\"}', 'name': 'tavily_search_results_json'}, 'type': 'function'}]}, response_metadata={'token_usage': {'completion_tokens': 22, 'prompt_tokens': 152, 'total_tokens': 174}, 'model_name': 'gpt-3.5-turbo-0125', 'system_fingerprint': None, 'finish_reason': 'tool_calls', 'logprobs': None}, id='run-2c0d1cd2-753e-45af-a27a-b99c6fcb53d9-0', tool_calls=[{'name': 'tavily_search_results_json', 'args': {'query': 'current weather in Los Angeles'}, 'id': 'call_Og5snzEMjgyX7C7HVBVB22GV'}], usage_metadata={'input_tokens': 152, 'output_tokens': 22, 'total_tokens': 174})]}\n",
      "\n",
      " StateSnapshot(values={'messages': [HumanMessage(content='Whats the weather in LA?', id='94270536-f714-429d-b976-15ba664dbeb3'), AIMessage(content='', additional_kwargs={'tool_calls': [{'id': 'call_Og5snzEMjgyX7C7HVBVB22GV', 'function': {'arguments': '{\"query\":\"current weather in Los Angeles\"}', 'name': 'tavily_search_results_json'}, 'type': 'function'}]}, response_metadata={'token_usage': {'completion_tokens': 22, 'prompt_tokens': 152, 'total_tokens': 174}, 'model_name': 'gpt-3.5-turbo-0125', 'system_fingerprint': None, 'finish_reason': 'tool_calls', 'logprobs': None}, id='run-2c0d1cd2-753e-45af-a27a-b99c6fcb53d9-0', tool_calls=[{'name': 'tavily_search_results_json', 'args': {'query': 'current weather in Los Angeles'}, 'id': 'call_Og5snzEMjgyX7C7HVBVB22GV'}], usage_metadata={'input_tokens': 152, 'output_tokens': 22, 'total_tokens': 174})]}, next=('action',), config={'configurable': {'thread_id': '3', 'thread_ts': '1ef31518-6917-6a86-8001-05e4eb37f57c'}}, metadata={'source': 'loop', 'step': 1, 'writes': {'llm': {'messages': [AIMessage(content='', additional_kwargs={'tool_calls': [{'id': 'call_Og5snzEMjgyX7C7HVBVB22GV', 'function': {'arguments': '{\"query\":\"current weather in Los Angeles\"}', 'name': 'tavily_search_results_json'}, 'type': 'function'}]}, response_metadata={'token_usage': {'completion_tokens': 22, 'prompt_tokens': 152, 'total_tokens': 174}, 'model_name': 'gpt-3.5-turbo-0125', 'system_fingerprint': None, 'finish_reason': 'tool_calls', 'logprobs': None}, id='run-2c0d1cd2-753e-45af-a27a-b99c6fcb53d9-0', tool_calls=[{'name': 'tavily_search_results_json', 'args': {'query': 'current weather in Los Angeles'}, 'id': 'call_Og5snzEMjgyX7C7HVBVB22GV'}], usage_metadata={'input_tokens': 152, 'output_tokens': 22, 'total_tokens': 174})]}}}, created_at='2024-06-23T11:12:49.156758+00:00', parent_config={'configurable': {'thread_id': '3', 'thread_ts': '1ef31518-5f98-62da-8000-e6c3a55f5da2'}}) \n",
      "\n",
      "Calling: {'name': 'tavily_search_results_json', 'args': {'query': 'current weather in Los Angeles'}, 'id': 'call_Og5snzEMjgyX7C7HVBVB22GV'}\n",
      "Back to the model!\n",
      "{'messages': [ToolMessage(content='[{\\'url\\': \\'https://www.wunderground.com/hourly/us/ca/los-angeles/90024/date/2024-6-30\\', \\'content\\': \\'Weather Underground provides local & long-range weather forecasts, weatherreports, maps & tropical weather conditions for the Los Angeles area. ... 34.06 °N, 118.44 °W Los Angeles, ...\\'}, {\\'url\\': \\'https://www.weatherapi.com/\\', \\'content\\': \"{\\'location\\': {\\'name\\': \\'Los Angeles\\', \\'region\\': \\'California\\', \\'country\\': \\'United States of America\\', \\'lat\\': 34.05, \\'lon\\': -118.24, \\'tz_id\\': \\'America/Los_Angeles\\', \\'localtime_epoch\\': 1719141121, \\'localtime\\': \\'2024-06-23 4:12\\'}, \\'current\\': {\\'last_updated_epoch\\': 1719140400, \\'last_updated\\': \\'2024-06-23 04:00\\', \\'temp_c\\': 17.2, \\'temp_f\\': 63.0, \\'is_day\\': 0, \\'condition\\': {\\'text\\': \\'Clear\\', \\'icon\\': \\'//cdn.weatherapi.com/weather/64x64/night/113.png\\', \\'code\\': 1000}, \\'wind_mph\\': 3.8, \\'wind_kph\\': 6.1, \\'wind_degree\\': 280, \\'wind_dir\\': \\'W\\', \\'pressure_mb\\': 1011.0, \\'pressure_in\\': 29.86, \\'precip_mm\\': 0.0, \\'precip_in\\': 0.0, \\'humidity\\': 87, \\'cloud\\': 0, \\'feelslike_c\\': 17.2, \\'feelslike_f\\': 63.0, \\'windchill_c\\': 22.2, \\'windchill_f\\': 72.0, \\'heatindex_c\\': 24.5, \\'heatindex_f\\': 76.1, \\'dewpoint_c\\': 11.6, \\'dewpoint_f\\': 52.8, \\'vis_km\\': 16.0, \\'vis_miles\\': 9.0, \\'uv\\': 1.0, \\'gust_mph\\': 8.3, \\'gust_kph\\': 13.3}}\"}]', name='tavily_search_results_json', tool_call_id='call_Og5snzEMjgyX7C7HVBVB22GV')]}\n",
      "{'messages': [HumanMessage(content='Whats the weather in LA?', id='94270536-f714-429d-b976-15ba664dbeb3'), AIMessage(content='', additional_kwargs={'tool_calls': [{'id': 'call_Og5snzEMjgyX7C7HVBVB22GV', 'function': {'arguments': '{\"query\":\"current weather in Los Angeles\"}', 'name': 'tavily_search_results_json'}, 'type': 'function'}]}, response_metadata={'token_usage': {'completion_tokens': 22, 'prompt_tokens': 152, 'total_tokens': 174}, 'model_name': 'gpt-3.5-turbo-0125', 'system_fingerprint': None, 'finish_reason': 'tool_calls', 'logprobs': None}, id='run-2c0d1cd2-753e-45af-a27a-b99c6fcb53d9-0', tool_calls=[{'name': 'tavily_search_results_json', 'args': {'query': 'current weather in Los Angeles'}, 'id': 'call_Og5snzEMjgyX7C7HVBVB22GV'}], usage_metadata={'input_tokens': 152, 'output_tokens': 22, 'total_tokens': 174}), ToolMessage(content='[{\\'url\\': \\'https://www.wunderground.com/hourly/us/ca/los-angeles/90024/date/2024-6-30\\', \\'content\\': \\'Weather Underground provides local & long-range weather forecasts, weatherreports, maps & tropical weather conditions for the Los Angeles area. ... 34.06 °N, 118.44 °W Los Angeles, ...\\'}, {\\'url\\': \\'https://www.weatherapi.com/\\', \\'content\\': \"{\\'location\\': {\\'name\\': \\'Los Angeles\\', \\'region\\': \\'California\\', \\'country\\': \\'United States of America\\', \\'lat\\': 34.05, \\'lon\\': -118.24, \\'tz_id\\': \\'America/Los_Angeles\\', \\'localtime_epoch\\': 1719141121, \\'localtime\\': \\'2024-06-23 4:12\\'}, \\'current\\': {\\'last_updated_epoch\\': 1719140400, \\'last_updated\\': \\'2024-06-23 04:00\\', \\'temp_c\\': 17.2, \\'temp_f\\': 63.0, \\'is_day\\': 0, \\'condition\\': {\\'text\\': \\'Clear\\', \\'icon\\': \\'//cdn.weatherapi.com/weather/64x64/night/113.png\\', \\'code\\': 1000}, \\'wind_mph\\': 3.8, \\'wind_kph\\': 6.1, \\'wind_degree\\': 280, \\'wind_dir\\': \\'W\\', \\'pressure_mb\\': 1011.0, \\'pressure_in\\': 29.86, \\'precip_mm\\': 0.0, \\'precip_in\\': 0.0, \\'humidity\\': 87, \\'cloud\\': 0, \\'feelslike_c\\': 17.2, \\'feelslike_f\\': 63.0, \\'windchill_c\\': 22.2, \\'windchill_f\\': 72.0, \\'heatindex_c\\': 24.5, \\'heatindex_f\\': 76.1, \\'dewpoint_c\\': 11.6, \\'dewpoint_f\\': 52.8, \\'vis_km\\': 16.0, \\'vis_miles\\': 9.0, \\'uv\\': 1.0, \\'gust_mph\\': 8.3, \\'gust_kph\\': 13.3}}\"}]', name='tavily_search_results_json', id='24605b20-2773-4eca-9e59-b3434c05f570', tool_call_id='call_Og5snzEMjgyX7C7HVBVB22GV'), AIMessage(content='The current weather in Los Angeles is clear with a temperature of 63.0°F (17.2°C). The wind speed is 3.8 mph (6.1 kph) coming from the west. The humidity is at 87%, and there is no precipitation at the moment.', response_metadata={'token_usage': {'completion_tokens': 61, 'prompt_tokens': 674, 'total_tokens': 735}, 'model_name': 'gpt-3.5-turbo-0125', 'system_fingerprint': None, 'finish_reason': 'stop', 'logprobs': None}, id='run-1891157c-20ea-4841-8acd-1bd64b1f9e09-0', usage_metadata={'input_tokens': 674, 'output_tokens': 61, 'total_tokens': 735})]}\n",
      "{'messages': [AIMessage(content='The current weather in Los Angeles is clear with a temperature of 63.0°F (17.2°C). The wind speed is 3.8 mph (6.1 kph) coming from the west. The humidity is at 87%, and there is no precipitation at the moment.', response_metadata={'token_usage': {'completion_tokens': 61, 'prompt_tokens': 674, 'total_tokens': 735}, 'model_name': 'gpt-3.5-turbo-0125', 'system_fingerprint': None, 'finish_reason': 'stop', 'logprobs': None}, id='run-1891157c-20ea-4841-8acd-1bd64b1f9e09-0', usage_metadata={'input_tokens': 674, 'output_tokens': 61, 'total_tokens': 735})]}\n"
     ]
    }
   ],
   "source": [
    "messages = [HumanMessage(\"Whats the weather in LA?\")]\n",
    "thread = {\"configurable\": {\"thread_id\": \"3\"}}\n",
    "for event in abot.graph.stream({\"messages\": messages}, thread):\n",
    "    for v in event.values():\n",
    "        print(v)\n",
    "while abot.graph.get_state(thread).next:\n",
    "    print(\"\\n\", abot.graph.get_state(thread),\"\\n\")\n",
    "    _input = input(\"proceed?\")\n",
    "    if _input != \"y\":\n",
    "        print(\"aborting\")\n",
    "        break\n",
    "    for event in abot.graph.stream(None, thread):\n",
    "        for v in event.values():\n",
    "            print(v)"
   ]
  },
  {
   "cell_type": "code",
   "execution_count": 19,
   "metadata": {},
   "outputs": [
    {
     "name": "stdout",
     "output_type": "stream",
     "text": [
      "{'messages': [HumanMessage(content='Whats the weather in LA?', id='f849bee2-8346-45f8-be50-e776397733ab'), AIMessage(content='', additional_kwargs={'tool_calls': [{'id': 'call_EtyP8RyLpKhfXchP8bGovHMv', 'function': {'arguments': '{\"query\":\"weather in Los Angeles\"}', 'name': 'tavily_search_results_json'}, 'type': 'function'}]}, response_metadata={'token_usage': {'completion_tokens': 21, 'prompt_tokens': 152, 'total_tokens': 173}, 'model_name': 'gpt-3.5-turbo-0125', 'system_fingerprint': None, 'finish_reason': 'tool_calls', 'logprobs': None}, id='run-97ec91ac-4a92-4857-bc55-82831097eb09-0', tool_calls=[{'name': 'tavily_search_results_json', 'args': {'query': 'weather in Los Angeles'}, 'id': 'call_EtyP8RyLpKhfXchP8bGovHMv'}], usage_metadata={'input_tokens': 152, 'output_tokens': 21, 'total_tokens': 173})]}\n",
      "{'messages': [AIMessage(content='', additional_kwargs={'tool_calls': [{'id': 'call_EtyP8RyLpKhfXchP8bGovHMv', 'function': {'arguments': '{\"query\":\"weather in Los Angeles\"}', 'name': 'tavily_search_results_json'}, 'type': 'function'}]}, response_metadata={'token_usage': {'completion_tokens': 21, 'prompt_tokens': 152, 'total_tokens': 173}, 'model_name': 'gpt-3.5-turbo-0125', 'system_fingerprint': None, 'finish_reason': 'tool_calls', 'logprobs': None}, id='run-97ec91ac-4a92-4857-bc55-82831097eb09-0', tool_calls=[{'name': 'tavily_search_results_json', 'args': {'query': 'weather in Los Angeles'}, 'id': 'call_EtyP8RyLpKhfXchP8bGovHMv'}], usage_metadata={'input_tokens': 152, 'output_tokens': 21, 'total_tokens': 173})]}\n"
     ]
    }
   ],
   "source": [
    "messages = [HumanMessage(\"Whats the weather in LA?\")]\n",
    "thread = {\"configurable\": {\"thread_id\": \"11\"}}\n",
    "for event in abot.graph.stream({\"messages\": messages}, thread):\n",
    "    for v in event.values():\n",
    "        print(v)"
   ]
  },
  {
   "cell_type": "code",
   "execution_count": 20,
   "metadata": {},
   "outputs": [
    {
     "data": {
      "text/plain": [
       "StateSnapshot(values={'messages': [HumanMessage(content='Whats the weather in LA?', id='f849bee2-8346-45f8-be50-e776397733ab'), AIMessage(content='', additional_kwargs={'tool_calls': [{'id': 'call_EtyP8RyLpKhfXchP8bGovHMv', 'function': {'arguments': '{\"query\":\"weather in Los Angeles\"}', 'name': 'tavily_search_results_json'}, 'type': 'function'}]}, response_metadata={'token_usage': {'completion_tokens': 21, 'prompt_tokens': 152, 'total_tokens': 173}, 'model_name': 'gpt-3.5-turbo-0125', 'system_fingerprint': None, 'finish_reason': 'tool_calls', 'logprobs': None}, id='run-97ec91ac-4a92-4857-bc55-82831097eb09-0', tool_calls=[{'name': 'tavily_search_results_json', 'args': {'query': 'weather in Los Angeles'}, 'id': 'call_EtyP8RyLpKhfXchP8bGovHMv'}], usage_metadata={'input_tokens': 152, 'output_tokens': 21, 'total_tokens': 173})]}, next=('action',), config={'configurable': {'thread_id': '11', 'thread_ts': '1ef31527-48b2-6e26-8001-30b8efe6b535'}}, metadata={'source': 'loop', 'step': 1, 'writes': {'llm': {'messages': [AIMessage(content='', additional_kwargs={'tool_calls': [{'id': 'call_EtyP8RyLpKhfXchP8bGovHMv', 'function': {'arguments': '{\"query\":\"weather in Los Angeles\"}', 'name': 'tavily_search_results_json'}, 'type': 'function'}]}, response_metadata={'token_usage': {'completion_tokens': 21, 'prompt_tokens': 152, 'total_tokens': 173}, 'model_name': 'gpt-3.5-turbo-0125', 'system_fingerprint': None, 'finish_reason': 'tool_calls', 'logprobs': None}, id='run-97ec91ac-4a92-4857-bc55-82831097eb09-0', tool_calls=[{'name': 'tavily_search_results_json', 'args': {'query': 'weather in Los Angeles'}, 'id': 'call_EtyP8RyLpKhfXchP8bGovHMv'}], usage_metadata={'input_tokens': 152, 'output_tokens': 21, 'total_tokens': 173})]}}}, created_at='2024-06-23T11:19:28.413224+00:00', parent_config={'configurable': {'thread_id': '11', 'thread_ts': '1ef31527-3dc5-68a6-8000-6f08f198d059'}})"
      ]
     },
     "execution_count": 20,
     "metadata": {},
     "output_type": "execute_result"
    }
   ],
   "source": [
    "abot.graph.get_state(thread)"
   ]
  },
  {
   "cell_type": "code",
   "execution_count": 21,
   "metadata": {},
   "outputs": [],
   "source": [
    "current_values = abot.graph.get_state(thread)"
   ]
  },
  {
   "cell_type": "code",
   "execution_count": 22,
   "metadata": {},
   "outputs": [
    {
     "data": {
      "text/plain": [
       "StateSnapshot(values={'messages': [HumanMessage(content='Whats the weather in LA?', id='f849bee2-8346-45f8-be50-e776397733ab'), AIMessage(content='', additional_kwargs={'tool_calls': [{'id': 'call_EtyP8RyLpKhfXchP8bGovHMv', 'function': {'arguments': '{\"query\":\"weather in Los Angeles\"}', 'name': 'tavily_search_results_json'}, 'type': 'function'}]}, response_metadata={'token_usage': {'completion_tokens': 21, 'prompt_tokens': 152, 'total_tokens': 173}, 'model_name': 'gpt-3.5-turbo-0125', 'system_fingerprint': None, 'finish_reason': 'tool_calls', 'logprobs': None}, id='run-97ec91ac-4a92-4857-bc55-82831097eb09-0', tool_calls=[{'name': 'tavily_search_results_json', 'args': {'query': 'weather in Los Angeles'}, 'id': 'call_EtyP8RyLpKhfXchP8bGovHMv'}], usage_metadata={'input_tokens': 152, 'output_tokens': 21, 'total_tokens': 173})]}, next=('action',), config={'configurable': {'thread_id': '11', 'thread_ts': '1ef31527-48b2-6e26-8001-30b8efe6b535'}}, metadata={'source': 'loop', 'step': 1, 'writes': {'llm': {'messages': [AIMessage(content='', additional_kwargs={'tool_calls': [{'id': 'call_EtyP8RyLpKhfXchP8bGovHMv', 'function': {'arguments': '{\"query\":\"weather in Los Angeles\"}', 'name': 'tavily_search_results_json'}, 'type': 'function'}]}, response_metadata={'token_usage': {'completion_tokens': 21, 'prompt_tokens': 152, 'total_tokens': 173}, 'model_name': 'gpt-3.5-turbo-0125', 'system_fingerprint': None, 'finish_reason': 'tool_calls', 'logprobs': None}, id='run-97ec91ac-4a92-4857-bc55-82831097eb09-0', tool_calls=[{'name': 'tavily_search_results_json', 'args': {'query': 'weather in Los Angeles'}, 'id': 'call_EtyP8RyLpKhfXchP8bGovHMv'}], usage_metadata={'input_tokens': 152, 'output_tokens': 21, 'total_tokens': 173})]}}}, created_at='2024-06-23T11:19:28.413224+00:00', parent_config={'configurable': {'thread_id': '11', 'thread_ts': '1ef31527-3dc5-68a6-8000-6f08f198d059'}})"
      ]
     },
     "execution_count": 22,
     "metadata": {},
     "output_type": "execute_result"
    }
   ],
   "source": [
    "current_values"
   ]
  },
  {
   "cell_type": "code",
   "execution_count": 23,
   "metadata": {},
   "outputs": [
    {
     "data": {
      "text/plain": [
       "AIMessage(content='', additional_kwargs={'tool_calls': [{'id': 'call_EtyP8RyLpKhfXchP8bGovHMv', 'function': {'arguments': '{\"query\":\"weather in Los Angeles\"}', 'name': 'tavily_search_results_json'}, 'type': 'function'}]}, response_metadata={'token_usage': {'completion_tokens': 21, 'prompt_tokens': 152, 'total_tokens': 173}, 'model_name': 'gpt-3.5-turbo-0125', 'system_fingerprint': None, 'finish_reason': 'tool_calls', 'logprobs': None}, id='run-97ec91ac-4a92-4857-bc55-82831097eb09-0', tool_calls=[{'name': 'tavily_search_results_json', 'args': {'query': 'weather in Los Angeles'}, 'id': 'call_EtyP8RyLpKhfXchP8bGovHMv'}], usage_metadata={'input_tokens': 152, 'output_tokens': 21, 'total_tokens': 173})"
      ]
     },
     "execution_count": 23,
     "metadata": {},
     "output_type": "execute_result"
    }
   ],
   "source": [
    "current_values.values['messages'][-1]"
   ]
  },
  {
   "cell_type": "code",
   "execution_count": 24,
   "metadata": {},
   "outputs": [
    {
     "data": {
      "text/plain": [
       "[{'name': 'tavily_search_results_json',\n",
       "  'args': {'query': 'weather in Los Angeles'},\n",
       "  'id': 'call_EtyP8RyLpKhfXchP8bGovHMv'}]"
      ]
     },
     "execution_count": 24,
     "metadata": {},
     "output_type": "execute_result"
    }
   ],
   "source": [
    "current_values.values['messages'][-1].tool_calls"
   ]
  },
  {
   "cell_type": "code",
   "execution_count": 25,
   "metadata": {},
   "outputs": [],
   "source": [
    "_id = current_values.values['messages'][-1].tool_calls[0]['id']\n",
    "current_values.values['messages'][-1].tool_calls = [\n",
    "    {'name': 'tavily_search_results_json',\n",
    "  'args': {'query': 'current weather in Louisiana'},\n",
    "  'id': _id}\n",
    "]"
   ]
  },
  {
   "cell_type": "code",
   "execution_count": 26,
   "metadata": {},
   "outputs": [
    {
     "data": {
      "text/plain": [
       "AIMessage(content='', additional_kwargs={'tool_calls': [{'id': 'call_EtyP8RyLpKhfXchP8bGovHMv', 'function': {'arguments': '{\"query\":\"weather in Los Angeles\"}', 'name': 'tavily_search_results_json'}, 'type': 'function'}]}, response_metadata={'token_usage': {'completion_tokens': 21, 'prompt_tokens': 152, 'total_tokens': 173}, 'model_name': 'gpt-3.5-turbo-0125', 'system_fingerprint': None, 'finish_reason': 'tool_calls', 'logprobs': None}, id='run-97ec91ac-4a92-4857-bc55-82831097eb09-0', tool_calls=[{'name': 'tavily_search_results_json', 'args': {'query': 'current weather in Louisiana'}, 'id': 'call_EtyP8RyLpKhfXchP8bGovHMv'}], usage_metadata={'input_tokens': 152, 'output_tokens': 21, 'total_tokens': 173})"
      ]
     },
     "execution_count": 26,
     "metadata": {},
     "output_type": "execute_result"
    }
   ],
   "source": [
    "current_values.values['messages'][-1]"
   ]
  },
  {
   "cell_type": "code",
   "execution_count": 27,
   "metadata": {},
   "outputs": [
    {
     "name": "stdout",
     "output_type": "stream",
     "text": [
      "{'messages': [HumanMessage(content='Whats the weather in LA?', id='f849bee2-8346-45f8-be50-e776397733ab'), AIMessage(content='', additional_kwargs={'tool_calls': [{'id': 'call_EtyP8RyLpKhfXchP8bGovHMv', 'function': {'arguments': '{\"query\":\"weather in Los Angeles\"}', 'name': 'tavily_search_results_json'}, 'type': 'function'}]}, response_metadata={'token_usage': {'completion_tokens': 21, 'prompt_tokens': 152, 'total_tokens': 173}, 'model_name': 'gpt-3.5-turbo-0125', 'system_fingerprint': None, 'finish_reason': 'tool_calls', 'logprobs': None}, id='run-97ec91ac-4a92-4857-bc55-82831097eb09-0', tool_calls=[{'name': 'tavily_search_results_json', 'args': {'query': 'current weather in Louisiana'}, 'id': 'call_EtyP8RyLpKhfXchP8bGovHMv'}], usage_metadata={'input_tokens': 152, 'output_tokens': 21, 'total_tokens': 173})]}\n"
     ]
    },
    {
     "data": {
      "text/plain": [
       "{'configurable': {'thread_id': '11',\n",
       "  'thread_ts': '1ef31536-21bb-66f6-8002-bf56c29ebfda'}}"
      ]
     },
     "execution_count": 27,
     "metadata": {},
     "output_type": "execute_result"
    }
   ],
   "source": [
    "abot.graph.update_state(thread, current_values.values)"
   ]
  },
  {
   "cell_type": "code",
   "execution_count": 28,
   "metadata": {},
   "outputs": [
    {
     "data": {
      "text/plain": [
       "StateSnapshot(values={'messages': [HumanMessage(content='Whats the weather in LA?', id='f849bee2-8346-45f8-be50-e776397733ab'), AIMessage(content='', additional_kwargs={'tool_calls': [{'id': 'call_EtyP8RyLpKhfXchP8bGovHMv', 'function': {'arguments': '{\"query\":\"weather in Los Angeles\"}', 'name': 'tavily_search_results_json'}, 'type': 'function'}]}, response_metadata={'token_usage': {'completion_tokens': 21, 'prompt_tokens': 152, 'total_tokens': 173}, 'model_name': 'gpt-3.5-turbo-0125', 'system_fingerprint': None, 'finish_reason': 'tool_calls', 'logprobs': None}, id='run-97ec91ac-4a92-4857-bc55-82831097eb09-0', tool_calls=[{'name': 'tavily_search_results_json', 'args': {'query': 'current weather in Louisiana'}, 'id': 'call_EtyP8RyLpKhfXchP8bGovHMv'}], usage_metadata={'input_tokens': 152, 'output_tokens': 21, 'total_tokens': 173})]}, next=('action',), config={'configurable': {'thread_id': '11', 'thread_ts': '1ef31536-21bb-66f6-8002-bf56c29ebfda'}}, metadata={'source': 'update', 'step': 2, 'writes': {'llm': {'messages': [HumanMessage(content='Whats the weather in LA?', id='f849bee2-8346-45f8-be50-e776397733ab'), AIMessage(content='', additional_kwargs={'tool_calls': [{'id': 'call_EtyP8RyLpKhfXchP8bGovHMv', 'function': {'arguments': '{\"query\":\"weather in Los Angeles\"}', 'name': 'tavily_search_results_json'}, 'type': 'function'}]}, response_metadata={'token_usage': {'completion_tokens': 21, 'prompt_tokens': 152, 'total_tokens': 173}, 'model_name': 'gpt-3.5-turbo-0125', 'system_fingerprint': None, 'finish_reason': 'tool_calls', 'logprobs': None}, id='run-97ec91ac-4a92-4857-bc55-82831097eb09-0', tool_calls=[{'name': 'tavily_search_results_json', 'args': {'query': 'current weather in Louisiana'}, 'id': 'call_EtyP8RyLpKhfXchP8bGovHMv'}], usage_metadata={'input_tokens': 152, 'output_tokens': 21, 'total_tokens': 173})]}}}, created_at='2024-06-23T11:26:06.980471+00:00', parent_config={'configurable': {'thread_id': '11', 'thread_ts': '1ef31527-48b2-6e26-8001-30b8efe6b535'}})"
      ]
     },
     "execution_count": 28,
     "metadata": {},
     "output_type": "execute_result"
    }
   ],
   "source": [
    "abot.graph.get_state(thread)"
   ]
  },
  {
   "cell_type": "code",
   "execution_count": 29,
   "metadata": {},
   "outputs": [
    {
     "name": "stdout",
     "output_type": "stream",
     "text": [
      "Calling: {'name': 'tavily_search_results_json', 'args': {'query': 'current weather in Louisiana'}, 'id': 'call_EtyP8RyLpKhfXchP8bGovHMv'}\n",
      "Back to the model!\n",
      "{'messages': [ToolMessage(content=\"[{'url': 'https://world-weather.info/forecast/usa/louisiana/june-2024/', 'content': 'Detailed ⚡ Louisiana Weather Forecast for June 2024 - day/night 🌡️ temperatures, precipitations - World-Weather.info. Add the current city. Search. Weather; Archive; Widgets °F. World; United States; Missouri; Weather in Louisiana; ... 23 +82° +70° 24 +82° +70° 25 ...'}, {'url': 'https://world-weather.info/forecast/usa/new_orleans/june-2024/', 'content': 'Extended weather forecast in New Orleans. Hourly Week 10 days 14 days 30 days Year. Detailed ⚡ New Orleans Weather Forecast for June 2024 - day/night 🌡️ temperatures, precipitations - World-Weather.info.'}]\", name='tavily_search_results_json', tool_call_id='call_EtyP8RyLpKhfXchP8bGovHMv')]}\n",
      "{'messages': [HumanMessage(content='Whats the weather in LA?', id='f849bee2-8346-45f8-be50-e776397733ab'), AIMessage(content='', additional_kwargs={'tool_calls': [{'id': 'call_EtyP8RyLpKhfXchP8bGovHMv', 'function': {'arguments': '{\"query\":\"weather in Los Angeles\"}', 'name': 'tavily_search_results_json'}, 'type': 'function'}]}, response_metadata={'token_usage': {'completion_tokens': 21, 'prompt_tokens': 152, 'total_tokens': 173}, 'model_name': 'gpt-3.5-turbo-0125', 'system_fingerprint': None, 'finish_reason': 'tool_calls', 'logprobs': None}, id='run-97ec91ac-4a92-4857-bc55-82831097eb09-0', tool_calls=[{'name': 'tavily_search_results_json', 'args': {'query': 'current weather in Louisiana'}, 'id': 'call_EtyP8RyLpKhfXchP8bGovHMv'}], usage_metadata={'input_tokens': 152, 'output_tokens': 21, 'total_tokens': 173}), ToolMessage(content=\"[{'url': 'https://world-weather.info/forecast/usa/louisiana/june-2024/', 'content': 'Detailed ⚡ Louisiana Weather Forecast for June 2024 - day/night 🌡️ temperatures, precipitations - World-Weather.info. Add the current city. Search. Weather; Archive; Widgets °F. World; United States; Missouri; Weather in Louisiana; ... 23 +82° +70° 24 +82° +70° 25 ...'}, {'url': 'https://world-weather.info/forecast/usa/new_orleans/june-2024/', 'content': 'Extended weather forecast in New Orleans. Hourly Week 10 days 14 days 30 days Year. Detailed ⚡ New Orleans Weather Forecast for June 2024 - day/night 🌡️ temperatures, precipitations - World-Weather.info.'}]\", name='tavily_search_results_json', id='8138a9d4-0eb1-449d-8d72-143af077a09c', tool_call_id='call_EtyP8RyLpKhfXchP8bGovHMv'), AIMessage(content='I found information about the weather in Louisiana, but I need to refine the search to get the weather specifically for Los Angeles. Let me search for the current weather in Los Angeles.', additional_kwargs={'tool_calls': [{'id': 'call_bbe7k2Y39hGatgMS6XzQ67Ki', 'function': {'arguments': '{\"query\":\"current weather in Los Angeles\"}', 'name': 'tavily_search_results_json'}, 'type': 'function'}]}, response_metadata={'token_usage': {'completion_tokens': 59, 'prompt_tokens': 370, 'total_tokens': 429}, 'model_name': 'gpt-3.5-turbo-0125', 'system_fingerprint': None, 'finish_reason': 'tool_calls', 'logprobs': None}, id='run-48ff16dd-65a0-454e-ac73-46c9b856ea6f-0', tool_calls=[{'name': 'tavily_search_results_json', 'args': {'query': 'current weather in Los Angeles'}, 'id': 'call_bbe7k2Y39hGatgMS6XzQ67Ki'}], usage_metadata={'input_tokens': 370, 'output_tokens': 59, 'total_tokens': 429})]}\n",
      "{'messages': [AIMessage(content='I found information about the weather in Louisiana, but I need to refine the search to get the weather specifically for Los Angeles. Let me search for the current weather in Los Angeles.', additional_kwargs={'tool_calls': [{'id': 'call_bbe7k2Y39hGatgMS6XzQ67Ki', 'function': {'arguments': '{\"query\":\"current weather in Los Angeles\"}', 'name': 'tavily_search_results_json'}, 'type': 'function'}]}, response_metadata={'token_usage': {'completion_tokens': 59, 'prompt_tokens': 370, 'total_tokens': 429}, 'model_name': 'gpt-3.5-turbo-0125', 'system_fingerprint': None, 'finish_reason': 'tool_calls', 'logprobs': None}, id='run-48ff16dd-65a0-454e-ac73-46c9b856ea6f-0', tool_calls=[{'name': 'tavily_search_results_json', 'args': {'query': 'current weather in Los Angeles'}, 'id': 'call_bbe7k2Y39hGatgMS6XzQ67Ki'}], usage_metadata={'input_tokens': 370, 'output_tokens': 59, 'total_tokens': 429})]}\n"
     ]
    }
   ],
   "source": [
    "for event in abot.graph.stream(None, thread):\n",
    "    for v in event.values():\n",
    "        print(v)"
   ]
  },
  {
   "cell_type": "code",
   "execution_count": 30,
   "metadata": {},
   "outputs": [
    {
     "name": "stdout",
     "output_type": "stream",
     "text": [
      "StateSnapshot(values={'messages': [HumanMessage(content='Whats the weather in LA?', id='f849bee2-8346-45f8-be50-e776397733ab'), AIMessage(content='', additional_kwargs={'tool_calls': [{'id': 'call_EtyP8RyLpKhfXchP8bGovHMv', 'function': {'arguments': '{\"query\":\"weather in Los Angeles\"}', 'name': 'tavily_search_results_json'}, 'type': 'function'}]}, response_metadata={'token_usage': {'completion_tokens': 21, 'prompt_tokens': 152, 'total_tokens': 173}, 'model_name': 'gpt-3.5-turbo-0125', 'system_fingerprint': None, 'finish_reason': 'tool_calls', 'logprobs': None}, id='run-97ec91ac-4a92-4857-bc55-82831097eb09-0', tool_calls=[{'name': 'tavily_search_results_json', 'args': {'query': 'current weather in Louisiana'}, 'id': 'call_EtyP8RyLpKhfXchP8bGovHMv'}], usage_metadata={'input_tokens': 152, 'output_tokens': 21, 'total_tokens': 173}), ToolMessage(content=\"[{'url': 'https://world-weather.info/forecast/usa/louisiana/june-2024/', 'content': 'Detailed ⚡ Louisiana Weather Forecast for June 2024 - day/night 🌡️ temperatures, precipitations - World-Weather.info. Add the current city. Search. Weather; Archive; Widgets °F. World; United States; Missouri; Weather in Louisiana; ... 23 +82° +70° 24 +82° +70° 25 ...'}, {'url': 'https://world-weather.info/forecast/usa/new_orleans/june-2024/', 'content': 'Extended weather forecast in New Orleans. Hourly Week 10 days 14 days 30 days Year. Detailed ⚡ New Orleans Weather Forecast for June 2024 - day/night 🌡️ temperatures, precipitations - World-Weather.info.'}]\", name='tavily_search_results_json', id='8138a9d4-0eb1-449d-8d72-143af077a09c', tool_call_id='call_EtyP8RyLpKhfXchP8bGovHMv'), AIMessage(content='I found information about the weather in Louisiana, but I need to refine the search to get the weather specifically for Los Angeles. Let me search for the current weather in Los Angeles.', additional_kwargs={'tool_calls': [{'id': 'call_bbe7k2Y39hGatgMS6XzQ67Ki', 'function': {'arguments': '{\"query\":\"current weather in Los Angeles\"}', 'name': 'tavily_search_results_json'}, 'type': 'function'}]}, response_metadata={'token_usage': {'completion_tokens': 59, 'prompt_tokens': 370, 'total_tokens': 429}, 'model_name': 'gpt-3.5-turbo-0125', 'system_fingerprint': None, 'finish_reason': 'tool_calls', 'logprobs': None}, id='run-48ff16dd-65a0-454e-ac73-46c9b856ea6f-0', tool_calls=[{'name': 'tavily_search_results_json', 'args': {'query': 'current weather in Los Angeles'}, 'id': 'call_bbe7k2Y39hGatgMS6XzQ67Ki'}], usage_metadata={'input_tokens': 370, 'output_tokens': 59, 'total_tokens': 429})]}, next=('action',), config={'configurable': {'thread_id': '11', 'thread_ts': '1ef3153a-1d22-6352-8004-34bad48a66dc'}}, metadata={'source': 'loop', 'step': 4, 'writes': {'llm': {'messages': [AIMessage(content='I found information about the weather in Louisiana, but I need to refine the search to get the weather specifically for Los Angeles. Let me search for the current weather in Los Angeles.', additional_kwargs={'tool_calls': [{'id': 'call_bbe7k2Y39hGatgMS6XzQ67Ki', 'function': {'arguments': '{\"query\":\"current weather in Los Angeles\"}', 'name': 'tavily_search_results_json'}, 'type': 'function'}]}, response_metadata={'token_usage': {'completion_tokens': 59, 'prompt_tokens': 370, 'total_tokens': 429}, 'model_name': 'gpt-3.5-turbo-0125', 'system_fingerprint': None, 'finish_reason': 'tool_calls', 'logprobs': None}, id='run-48ff16dd-65a0-454e-ac73-46c9b856ea6f-0', tool_calls=[{'name': 'tavily_search_results_json', 'args': {'query': 'current weather in Los Angeles'}, 'id': 'call_bbe7k2Y39hGatgMS6XzQ67Ki'}], usage_metadata={'input_tokens': 370, 'output_tokens': 59, 'total_tokens': 429})]}}}, created_at='2024-06-23T11:27:53.872460+00:00', parent_config={'configurable': {'thread_id': '11', 'thread_ts': '1ef3153a-0a2d-6558-8003-a63783d6f3c3'}})\n",
      "--\n",
      "StateSnapshot(values={'messages': [HumanMessage(content='Whats the weather in LA?', id='f849bee2-8346-45f8-be50-e776397733ab'), AIMessage(content='', additional_kwargs={'tool_calls': [{'id': 'call_EtyP8RyLpKhfXchP8bGovHMv', 'function': {'arguments': '{\"query\":\"weather in Los Angeles\"}', 'name': 'tavily_search_results_json'}, 'type': 'function'}]}, response_metadata={'token_usage': {'completion_tokens': 21, 'prompt_tokens': 152, 'total_tokens': 173}, 'model_name': 'gpt-3.5-turbo-0125', 'system_fingerprint': None, 'finish_reason': 'tool_calls', 'logprobs': None}, id='run-97ec91ac-4a92-4857-bc55-82831097eb09-0', tool_calls=[{'name': 'tavily_search_results_json', 'args': {'query': 'current weather in Louisiana'}, 'id': 'call_EtyP8RyLpKhfXchP8bGovHMv'}], usage_metadata={'input_tokens': 152, 'output_tokens': 21, 'total_tokens': 173}), ToolMessage(content=\"[{'url': 'https://world-weather.info/forecast/usa/louisiana/june-2024/', 'content': 'Detailed ⚡ Louisiana Weather Forecast for June 2024 - day/night 🌡️ temperatures, precipitations - World-Weather.info. Add the current city. Search. Weather; Archive; Widgets °F. World; United States; Missouri; Weather in Louisiana; ... 23 +82° +70° 24 +82° +70° 25 ...'}, {'url': 'https://world-weather.info/forecast/usa/new_orleans/june-2024/', 'content': 'Extended weather forecast in New Orleans. Hourly Week 10 days 14 days 30 days Year. Detailed ⚡ New Orleans Weather Forecast for June 2024 - day/night 🌡️ temperatures, precipitations - World-Weather.info.'}]\", name='tavily_search_results_json', id='8138a9d4-0eb1-449d-8d72-143af077a09c', tool_call_id='call_EtyP8RyLpKhfXchP8bGovHMv')]}, next=('llm',), config={'configurable': {'thread_id': '11', 'thread_ts': '1ef3153a-0a2d-6558-8003-a63783d6f3c3'}}, metadata={'source': 'loop', 'step': 3, 'writes': {'action': {'messages': [ToolMessage(content=\"[{'url': 'https://world-weather.info/forecast/usa/louisiana/june-2024/', 'content': 'Detailed ⚡ Louisiana Weather Forecast for June 2024 - day/night 🌡️ temperatures, precipitations - World-Weather.info. Add the current city. Search. Weather; Archive; Widgets °F. World; United States; Missouri; Weather in Louisiana; ... 23 +82° +70° 24 +82° +70° 25 ...'}, {'url': 'https://world-weather.info/forecast/usa/new_orleans/june-2024/', 'content': 'Extended weather forecast in New Orleans. Hourly Week 10 days 14 days 30 days Year. Detailed ⚡ New Orleans Weather Forecast for June 2024 - day/night 🌡️ temperatures, precipitations - World-Weather.info.'}]\", name='tavily_search_results_json', id='8138a9d4-0eb1-449d-8d72-143af077a09c', tool_call_id='call_EtyP8RyLpKhfXchP8bGovHMv')]}}}, created_at='2024-06-23T11:27:51.884722+00:00', parent_config={'configurable': {'thread_id': '11', 'thread_ts': '1ef31536-21bb-66f6-8002-bf56c29ebfda'}})\n",
      "--\n",
      "StateSnapshot(values={'messages': [HumanMessage(content='Whats the weather in LA?', id='f849bee2-8346-45f8-be50-e776397733ab'), AIMessage(content='', additional_kwargs={'tool_calls': [{'id': 'call_EtyP8RyLpKhfXchP8bGovHMv', 'function': {'arguments': '{\"query\":\"weather in Los Angeles\"}', 'name': 'tavily_search_results_json'}, 'type': 'function'}]}, response_metadata={'token_usage': {'completion_tokens': 21, 'prompt_tokens': 152, 'total_tokens': 173}, 'model_name': 'gpt-3.5-turbo-0125', 'system_fingerprint': None, 'finish_reason': 'tool_calls', 'logprobs': None}, id='run-97ec91ac-4a92-4857-bc55-82831097eb09-0', tool_calls=[{'name': 'tavily_search_results_json', 'args': {'query': 'current weather in Louisiana'}, 'id': 'call_EtyP8RyLpKhfXchP8bGovHMv'}], usage_metadata={'input_tokens': 152, 'output_tokens': 21, 'total_tokens': 173})]}, next=('action',), config={'configurable': {'thread_id': '11', 'thread_ts': '1ef31536-21bb-66f6-8002-bf56c29ebfda'}}, metadata={'source': 'update', 'step': 2, 'writes': {'llm': {'messages': [HumanMessage(content='Whats the weather in LA?', id='f849bee2-8346-45f8-be50-e776397733ab'), AIMessage(content='', additional_kwargs={'tool_calls': [{'id': 'call_EtyP8RyLpKhfXchP8bGovHMv', 'function': {'arguments': '{\"query\":\"weather in Los Angeles\"}', 'name': 'tavily_search_results_json'}, 'type': 'function'}]}, response_metadata={'token_usage': {'completion_tokens': 21, 'prompt_tokens': 152, 'total_tokens': 173}, 'model_name': 'gpt-3.5-turbo-0125', 'system_fingerprint': None, 'finish_reason': 'tool_calls', 'logprobs': None}, id='run-97ec91ac-4a92-4857-bc55-82831097eb09-0', tool_calls=[{'name': 'tavily_search_results_json', 'args': {'query': 'current weather in Louisiana'}, 'id': 'call_EtyP8RyLpKhfXchP8bGovHMv'}], usage_metadata={'input_tokens': 152, 'output_tokens': 21, 'total_tokens': 173})]}}}, created_at='2024-06-23T11:26:06.980471+00:00', parent_config={'configurable': {'thread_id': '11', 'thread_ts': '1ef31527-48b2-6e26-8001-30b8efe6b535'}})\n",
      "--\n",
      "StateSnapshot(values={'messages': [HumanMessage(content='Whats the weather in LA?', id='f849bee2-8346-45f8-be50-e776397733ab'), AIMessage(content='', additional_kwargs={'tool_calls': [{'id': 'call_EtyP8RyLpKhfXchP8bGovHMv', 'function': {'arguments': '{\"query\":\"weather in Los Angeles\"}', 'name': 'tavily_search_results_json'}, 'type': 'function'}]}, response_metadata={'token_usage': {'completion_tokens': 21, 'prompt_tokens': 152, 'total_tokens': 173}, 'model_name': 'gpt-3.5-turbo-0125', 'system_fingerprint': None, 'finish_reason': 'tool_calls', 'logprobs': None}, id='run-97ec91ac-4a92-4857-bc55-82831097eb09-0', tool_calls=[{'name': 'tavily_search_results_json', 'args': {'query': 'weather in Los Angeles'}, 'id': 'call_EtyP8RyLpKhfXchP8bGovHMv'}], usage_metadata={'input_tokens': 152, 'output_tokens': 21, 'total_tokens': 173})]}, next=('action',), config={'configurable': {'thread_id': '11', 'thread_ts': '1ef31527-48b2-6e26-8001-30b8efe6b535'}}, metadata={'source': 'loop', 'step': 1, 'writes': {'llm': {'messages': [AIMessage(content='', additional_kwargs={'tool_calls': [{'id': 'call_EtyP8RyLpKhfXchP8bGovHMv', 'function': {'arguments': '{\"query\":\"weather in Los Angeles\"}', 'name': 'tavily_search_results_json'}, 'type': 'function'}]}, response_metadata={'token_usage': {'completion_tokens': 21, 'prompt_tokens': 152, 'total_tokens': 173}, 'model_name': 'gpt-3.5-turbo-0125', 'system_fingerprint': None, 'finish_reason': 'tool_calls', 'logprobs': None}, id='run-97ec91ac-4a92-4857-bc55-82831097eb09-0', tool_calls=[{'name': 'tavily_search_results_json', 'args': {'query': 'weather in Los Angeles'}, 'id': 'call_EtyP8RyLpKhfXchP8bGovHMv'}], usage_metadata={'input_tokens': 152, 'output_tokens': 21, 'total_tokens': 173})]}}}, created_at='2024-06-23T11:19:28.413224+00:00', parent_config={'configurable': {'thread_id': '11', 'thread_ts': '1ef31527-3dc5-68a6-8000-6f08f198d059'}})\n",
      "--\n",
      "StateSnapshot(values={'messages': [HumanMessage(content='Whats the weather in LA?', id='f849bee2-8346-45f8-be50-e776397733ab')]}, next=('llm',), config={'configurable': {'thread_id': '11', 'thread_ts': '1ef31527-3dc5-68a6-8000-6f08f198d059'}}, metadata={'source': 'loop', 'step': 0, 'writes': None}, created_at='2024-06-23T11:19:27.267433+00:00', parent_config={'configurable': {'thread_id': '11', 'thread_ts': '1ef31527-3dbf-6f96-bfff-d7928d8e6569'}})\n",
      "--\n",
      "StateSnapshot(values={'messages': []}, next=('__start__',), config={'configurable': {'thread_id': '11', 'thread_ts': '1ef31527-3dbf-6f96-bfff-d7928d8e6569'}}, metadata={'source': 'input', 'step': -1, 'writes': {'messages': [HumanMessage(content='Whats the weather in LA?')]}}, created_at='2024-06-23T11:19:27.265157+00:00', parent_config=None)\n",
      "--\n"
     ]
    }
   ],
   "source": [
    "states = []\n",
    "for state in abot.graph.get_state_history(thread):\n",
    "    print(state)\n",
    "    print('--')\n",
    "    states.append(state)"
   ]
  },
  {
   "cell_type": "code",
   "execution_count": 31,
   "metadata": {},
   "outputs": [],
   "source": [
    "to_replay = states[-3]"
   ]
  },
  {
   "cell_type": "code",
   "execution_count": 32,
   "metadata": {},
   "outputs": [
    {
     "data": {
      "text/plain": [
       "StateSnapshot(values={'messages': [HumanMessage(content='Whats the weather in LA?', id='f849bee2-8346-45f8-be50-e776397733ab'), AIMessage(content='', additional_kwargs={'tool_calls': [{'id': 'call_EtyP8RyLpKhfXchP8bGovHMv', 'function': {'arguments': '{\"query\":\"weather in Los Angeles\"}', 'name': 'tavily_search_results_json'}, 'type': 'function'}]}, response_metadata={'token_usage': {'completion_tokens': 21, 'prompt_tokens': 152, 'total_tokens': 173}, 'model_name': 'gpt-3.5-turbo-0125', 'system_fingerprint': None, 'finish_reason': 'tool_calls', 'logprobs': None}, id='run-97ec91ac-4a92-4857-bc55-82831097eb09-0', tool_calls=[{'name': 'tavily_search_results_json', 'args': {'query': 'weather in Los Angeles'}, 'id': 'call_EtyP8RyLpKhfXchP8bGovHMv'}], usage_metadata={'input_tokens': 152, 'output_tokens': 21, 'total_tokens': 173})]}, next=('action',), config={'configurable': {'thread_id': '11', 'thread_ts': '1ef31527-48b2-6e26-8001-30b8efe6b535'}}, metadata={'source': 'loop', 'step': 1, 'writes': {'llm': {'messages': [AIMessage(content='', additional_kwargs={'tool_calls': [{'id': 'call_EtyP8RyLpKhfXchP8bGovHMv', 'function': {'arguments': '{\"query\":\"weather in Los Angeles\"}', 'name': 'tavily_search_results_json'}, 'type': 'function'}]}, response_metadata={'token_usage': {'completion_tokens': 21, 'prompt_tokens': 152, 'total_tokens': 173}, 'model_name': 'gpt-3.5-turbo-0125', 'system_fingerprint': None, 'finish_reason': 'tool_calls', 'logprobs': None}, id='run-97ec91ac-4a92-4857-bc55-82831097eb09-0', tool_calls=[{'name': 'tavily_search_results_json', 'args': {'query': 'weather in Los Angeles'}, 'id': 'call_EtyP8RyLpKhfXchP8bGovHMv'}], usage_metadata={'input_tokens': 152, 'output_tokens': 21, 'total_tokens': 173})]}}}, created_at='2024-06-23T11:19:28.413224+00:00', parent_config={'configurable': {'thread_id': '11', 'thread_ts': '1ef31527-3dc5-68a6-8000-6f08f198d059'}})"
      ]
     },
     "execution_count": 32,
     "metadata": {},
     "output_type": "execute_result"
    }
   ],
   "source": [
    "to_replay"
   ]
  },
  {
   "cell_type": "code",
   "execution_count": 33,
   "metadata": {},
   "outputs": [
    {
     "name": "stdout",
     "output_type": "stream",
     "text": [
      "Calling: {'name': 'tavily_search_results_json', 'args': {'query': 'weather in Los Angeles'}, 'id': 'call_EtyP8RyLpKhfXchP8bGovHMv'}\n",
      "Back to the model!\n",
      "{'messages': [ToolMessage(content=\"[{'url': 'https://www.wunderground.com/hourly/us/ca/los-angeles/90024/date/2024-6-30', 'content': 'Weather Underground provides local & long-range weather forecasts, weatherreports, maps & tropical weather conditions for the Los Angeles area. ... 34.06 °N, 118.44 °W Los Angeles, ...'}, {'url': 'https://www.timeanddate.com/weather/@z-us-90016/hourly', 'content': 'See weather overview Detailed Hourly Forecast — Next 24 hours Show weather on: Next 24 hours June 22, 2024 June 23, 2024 June 24, 2024 June 25, 2024 June 26, 2024 June 27, 2024 June 28, 2024'}]\", name='tavily_search_results_json', tool_call_id='call_EtyP8RyLpKhfXchP8bGovHMv')]}\n",
      "{'messages': [HumanMessage(content='Whats the weather in LA?', id='f849bee2-8346-45f8-be50-e776397733ab'), AIMessage(content='', additional_kwargs={'tool_calls': [{'id': 'call_EtyP8RyLpKhfXchP8bGovHMv', 'function': {'arguments': '{\"query\":\"weather in Los Angeles\"}', 'name': 'tavily_search_results_json'}, 'type': 'function'}]}, response_metadata={'token_usage': {'completion_tokens': 21, 'prompt_tokens': 152, 'total_tokens': 173}, 'model_name': 'gpt-3.5-turbo-0125', 'system_fingerprint': None, 'finish_reason': 'tool_calls', 'logprobs': None}, id='run-97ec91ac-4a92-4857-bc55-82831097eb09-0', tool_calls=[{'name': 'tavily_search_results_json', 'args': {'query': 'weather in Los Angeles'}, 'id': 'call_EtyP8RyLpKhfXchP8bGovHMv'}], usage_metadata={'input_tokens': 152, 'output_tokens': 21, 'total_tokens': 173}), ToolMessage(content=\"[{'url': 'https://www.wunderground.com/hourly/us/ca/los-angeles/90024/date/2024-6-30', 'content': 'Weather Underground provides local & long-range weather forecasts, weatherreports, maps & tropical weather conditions for the Los Angeles area. ... 34.06 °N, 118.44 °W Los Angeles, ...'}, {'url': 'https://www.timeanddate.com/weather/@z-us-90016/hourly', 'content': 'See weather overview Detailed Hourly Forecast — Next 24 hours Show weather on: Next 24 hours June 22, 2024 June 23, 2024 June 24, 2024 June 25, 2024 June 26, 2024 June 27, 2024 June 28, 2024'}]\", name='tavily_search_results_json', id='c01726c6-4625-40dc-b7be-a1bae0d7ecfd', tool_call_id='call_EtyP8RyLpKhfXchP8bGovHMv'), AIMessage(content='I found some sources with detailed weather information for Los Angeles. Would you like me to provide more specific details from one of these sources?', response_metadata={'token_usage': {'completion_tokens': 28, 'prompt_tokens': 363, 'total_tokens': 391}, 'model_name': 'gpt-3.5-turbo-0125', 'system_fingerprint': None, 'finish_reason': 'stop', 'logprobs': None}, id='run-df62dc1d-0fe9-4e08-ad82-e5f72f22531c-0', usage_metadata={'input_tokens': 363, 'output_tokens': 28, 'total_tokens': 391})]}\n",
      "{'messages': [AIMessage(content='I found some sources with detailed weather information for Los Angeles. Would you like me to provide more specific details from one of these sources?', response_metadata={'token_usage': {'completion_tokens': 28, 'prompt_tokens': 363, 'total_tokens': 391}, 'model_name': 'gpt-3.5-turbo-0125', 'system_fingerprint': None, 'finish_reason': 'stop', 'logprobs': None}, id='run-df62dc1d-0fe9-4e08-ad82-e5f72f22531c-0', usage_metadata={'input_tokens': 363, 'output_tokens': 28, 'total_tokens': 391})]}\n"
     ]
    }
   ],
   "source": [
    "for event in abot.graph.stream(None, to_replay.config):\n",
    "    for k, v in event.items():\n",
    "        print(v)"
   ]
  },
  {
   "cell_type": "code",
   "execution_count": 34,
   "metadata": {},
   "outputs": [
    {
     "data": {
      "text/plain": [
       "StateSnapshot(values={'messages': [HumanMessage(content='Whats the weather in LA?', id='f849bee2-8346-45f8-be50-e776397733ab'), AIMessage(content='', additional_kwargs={'tool_calls': [{'id': 'call_EtyP8RyLpKhfXchP8bGovHMv', 'function': {'arguments': '{\"query\":\"weather in Los Angeles\"}', 'name': 'tavily_search_results_json'}, 'type': 'function'}]}, response_metadata={'token_usage': {'completion_tokens': 21, 'prompt_tokens': 152, 'total_tokens': 173}, 'model_name': 'gpt-3.5-turbo-0125', 'system_fingerprint': None, 'finish_reason': 'tool_calls', 'logprobs': None}, id='run-97ec91ac-4a92-4857-bc55-82831097eb09-0', tool_calls=[{'name': 'tavily_search_results_json', 'args': {'query': 'weather in Los Angeles'}, 'id': 'call_EtyP8RyLpKhfXchP8bGovHMv'}], usage_metadata={'input_tokens': 152, 'output_tokens': 21, 'total_tokens': 173})]}, next=('action',), config={'configurable': {'thread_id': '11', 'thread_ts': '1ef31527-48b2-6e26-8001-30b8efe6b535'}}, metadata={'source': 'loop', 'step': 1, 'writes': {'llm': {'messages': [AIMessage(content='', additional_kwargs={'tool_calls': [{'id': 'call_EtyP8RyLpKhfXchP8bGovHMv', 'function': {'arguments': '{\"query\":\"weather in Los Angeles\"}', 'name': 'tavily_search_results_json'}, 'type': 'function'}]}, response_metadata={'token_usage': {'completion_tokens': 21, 'prompt_tokens': 152, 'total_tokens': 173}, 'model_name': 'gpt-3.5-turbo-0125', 'system_fingerprint': None, 'finish_reason': 'tool_calls', 'logprobs': None}, id='run-97ec91ac-4a92-4857-bc55-82831097eb09-0', tool_calls=[{'name': 'tavily_search_results_json', 'args': {'query': 'weather in Los Angeles'}, 'id': 'call_EtyP8RyLpKhfXchP8bGovHMv'}], usage_metadata={'input_tokens': 152, 'output_tokens': 21, 'total_tokens': 173})]}}}, created_at='2024-06-23T11:19:28.413224+00:00', parent_config={'configurable': {'thread_id': '11', 'thread_ts': '1ef31527-3dc5-68a6-8000-6f08f198d059'}})"
      ]
     },
     "execution_count": 34,
     "metadata": {},
     "output_type": "execute_result"
    }
   ],
   "source": [
    "to_replay"
   ]
  },
  {
   "cell_type": "code",
   "execution_count": 35,
   "metadata": {},
   "outputs": [],
   "source": [
    "_id = to_replay.values['messages'][-1].tool_calls[0]['id']\n",
    "to_replay.values['messages'][-1].tool_calls = [{'name': 'tavily_search_results_json',\n",
    "  'args': {'query': 'current weather in LA, accuweather'},\n",
    "  'id': _id}]"
   ]
  },
  {
   "cell_type": "code",
   "execution_count": 36,
   "metadata": {},
   "outputs": [
    {
     "name": "stdout",
     "output_type": "stream",
     "text": [
      "{'messages': [HumanMessage(content='Whats the weather in LA?', id='f849bee2-8346-45f8-be50-e776397733ab'), AIMessage(content='', additional_kwargs={'tool_calls': [{'id': 'call_EtyP8RyLpKhfXchP8bGovHMv', 'function': {'arguments': '{\"query\":\"weather in Los Angeles\"}', 'name': 'tavily_search_results_json'}, 'type': 'function'}]}, response_metadata={'token_usage': {'completion_tokens': 21, 'prompt_tokens': 152, 'total_tokens': 173}, 'model_name': 'gpt-3.5-turbo-0125', 'system_fingerprint': None, 'finish_reason': 'tool_calls', 'logprobs': None}, id='run-97ec91ac-4a92-4857-bc55-82831097eb09-0', tool_calls=[{'name': 'tavily_search_results_json', 'args': {'query': 'current weather in LA, accuweather'}, 'id': 'call_EtyP8RyLpKhfXchP8bGovHMv'}], usage_metadata={'input_tokens': 152, 'output_tokens': 21, 'total_tokens': 173})]}\n"
     ]
    }
   ],
   "source": [
    "branch_state = abot.graph.update_state(to_replay.config, to_replay.values)"
   ]
  },
  {
   "cell_type": "code",
   "execution_count": 37,
   "metadata": {},
   "outputs": [
    {
     "name": "stdout",
     "output_type": "stream",
     "text": [
      "StateSnapshot(values={'messages': [HumanMessage(content='Whats the weather in LA?', id='f849bee2-8346-45f8-be50-e776397733ab'), AIMessage(content='', additional_kwargs={'tool_calls': [{'id': 'call_EtyP8RyLpKhfXchP8bGovHMv', 'function': {'arguments': '{\"query\":\"weather in Los Angeles\"}', 'name': 'tavily_search_results_json'}, 'type': 'function'}]}, response_metadata={'token_usage': {'completion_tokens': 21, 'prompt_tokens': 152, 'total_tokens': 173}, 'model_name': 'gpt-3.5-turbo-0125', 'system_fingerprint': None, 'finish_reason': 'tool_calls', 'logprobs': None}, id='run-97ec91ac-4a92-4857-bc55-82831097eb09-0', tool_calls=[{'name': 'tavily_search_results_json', 'args': {'query': 'current weather in LA, accuweather'}, 'id': 'call_EtyP8RyLpKhfXchP8bGovHMv'}], usage_metadata={'input_tokens': 152, 'output_tokens': 21, 'total_tokens': 173})]}, next=('action',), config={'configurable': {'thread_id': '11', 'thread_ts': '1ef31555-b2ac-6128-8002-c82767192a43'}}, metadata={'source': 'update', 'step': 2, 'writes': {'llm': {'messages': [HumanMessage(content='Whats the weather in LA?', id='f849bee2-8346-45f8-be50-e776397733ab'), AIMessage(content='', additional_kwargs={'tool_calls': [{'id': 'call_EtyP8RyLpKhfXchP8bGovHMv', 'function': {'arguments': '{\"query\":\"weather in Los Angeles\"}', 'name': 'tavily_search_results_json'}, 'type': 'function'}]}, response_metadata={'token_usage': {'completion_tokens': 21, 'prompt_tokens': 152, 'total_tokens': 173}, 'model_name': 'gpt-3.5-turbo-0125', 'system_fingerprint': None, 'finish_reason': 'tool_calls', 'logprobs': None}, id='run-97ec91ac-4a92-4857-bc55-82831097eb09-0', tool_calls=[{'name': 'tavily_search_results_json', 'args': {'query': 'current weather in LA, accuweather'}, 'id': 'call_EtyP8RyLpKhfXchP8bGovHMv'}], usage_metadata={'input_tokens': 152, 'output_tokens': 21, 'total_tokens': 173})]}}}, created_at='2024-06-23T11:40:14.328446+00:00', parent_config={'configurable': {'thread_id': '11', 'thread_ts': '1ef31527-48b2-6e26-8001-30b8efe6b535'}})\n",
      "--\n",
      "StateSnapshot(values={'messages': [HumanMessage(content='Whats the weather in LA?', id='f849bee2-8346-45f8-be50-e776397733ab'), AIMessage(content='', additional_kwargs={'tool_calls': [{'id': 'call_EtyP8RyLpKhfXchP8bGovHMv', 'function': {'arguments': '{\"query\":\"weather in Los Angeles\"}', 'name': 'tavily_search_results_json'}, 'type': 'function'}]}, response_metadata={'token_usage': {'completion_tokens': 21, 'prompt_tokens': 152, 'total_tokens': 173}, 'model_name': 'gpt-3.5-turbo-0125', 'system_fingerprint': None, 'finish_reason': 'tool_calls', 'logprobs': None}, id='run-97ec91ac-4a92-4857-bc55-82831097eb09-0', tool_calls=[{'name': 'tavily_search_results_json', 'args': {'query': 'weather in Los Angeles'}, 'id': 'call_EtyP8RyLpKhfXchP8bGovHMv'}], usage_metadata={'input_tokens': 152, 'output_tokens': 21, 'total_tokens': 173}), ToolMessage(content=\"[{'url': 'https://www.wunderground.com/hourly/us/ca/los-angeles/90024/date/2024-6-30', 'content': 'Weather Underground provides local & long-range weather forecasts, weatherreports, maps & tropical weather conditions for the Los Angeles area. ... 34.06 °N, 118.44 °W Los Angeles, ...'}, {'url': 'https://www.timeanddate.com/weather/@z-us-90016/hourly', 'content': 'See weather overview Detailed Hourly Forecast — Next 24 hours Show weather on: Next 24 hours June 22, 2024 June 23, 2024 June 24, 2024 June 25, 2024 June 26, 2024 June 27, 2024 June 28, 2024'}]\", name='tavily_search_results_json', id='c01726c6-4625-40dc-b7be-a1bae0d7ecfd', tool_call_id='call_EtyP8RyLpKhfXchP8bGovHMv'), AIMessage(content='I found some sources with detailed weather information for Los Angeles. Would you like me to provide more specific details from one of these sources?', response_metadata={'token_usage': {'completion_tokens': 28, 'prompt_tokens': 363, 'total_tokens': 391}, 'model_name': 'gpt-3.5-turbo-0125', 'system_fingerprint': None, 'finish_reason': 'stop', 'logprobs': None}, id='run-df62dc1d-0fe9-4e08-ad82-e5f72f22531c-0', usage_metadata={'input_tokens': 363, 'output_tokens': 28, 'total_tokens': 391})]}, next=(), config={'configurable': {'thread_id': '11', 'thread_ts': '1ef3154f-814d-68a8-8003-a8c7ead15456'}}, metadata={'source': 'loop', 'step': 3, 'writes': {'llm': {'messages': [AIMessage(content='I found some sources with detailed weather information for Los Angeles. Would you like me to provide more specific details from one of these sources?', response_metadata={'token_usage': {'completion_tokens': 28, 'prompt_tokens': 363, 'total_tokens': 391}, 'model_name': 'gpt-3.5-turbo-0125', 'system_fingerprint': None, 'finish_reason': 'stop', 'logprobs': None}, id='run-df62dc1d-0fe9-4e08-ad82-e5f72f22531c-0', usage_metadata={'input_tokens': 363, 'output_tokens': 28, 'total_tokens': 391})]}}}, created_at='2024-06-23T11:37:28.090412+00:00', parent_config={'configurable': {'thread_id': '11', 'thread_ts': '1ef3154f-7690-6820-8002-005034963484'}})\n",
      "--\n",
      "StateSnapshot(values={'messages': [HumanMessage(content='Whats the weather in LA?', id='f849bee2-8346-45f8-be50-e776397733ab'), AIMessage(content='', additional_kwargs={'tool_calls': [{'id': 'call_EtyP8RyLpKhfXchP8bGovHMv', 'function': {'arguments': '{\"query\":\"weather in Los Angeles\"}', 'name': 'tavily_search_results_json'}, 'type': 'function'}]}, response_metadata={'token_usage': {'completion_tokens': 21, 'prompt_tokens': 152, 'total_tokens': 173}, 'model_name': 'gpt-3.5-turbo-0125', 'system_fingerprint': None, 'finish_reason': 'tool_calls', 'logprobs': None}, id='run-97ec91ac-4a92-4857-bc55-82831097eb09-0', tool_calls=[{'name': 'tavily_search_results_json', 'args': {'query': 'weather in Los Angeles'}, 'id': 'call_EtyP8RyLpKhfXchP8bGovHMv'}], usage_metadata={'input_tokens': 152, 'output_tokens': 21, 'total_tokens': 173}), ToolMessage(content=\"[{'url': 'https://www.wunderground.com/hourly/us/ca/los-angeles/90024/date/2024-6-30', 'content': 'Weather Underground provides local & long-range weather forecasts, weatherreports, maps & tropical weather conditions for the Los Angeles area. ... 34.06 °N, 118.44 °W Los Angeles, ...'}, {'url': 'https://www.timeanddate.com/weather/@z-us-90016/hourly', 'content': 'See weather overview Detailed Hourly Forecast — Next 24 hours Show weather on: Next 24 hours June 22, 2024 June 23, 2024 June 24, 2024 June 25, 2024 June 26, 2024 June 27, 2024 June 28, 2024'}]\", name='tavily_search_results_json', id='c01726c6-4625-40dc-b7be-a1bae0d7ecfd', tool_call_id='call_EtyP8RyLpKhfXchP8bGovHMv')]}, next=('llm',), config={'configurable': {'thread_id': '11', 'thread_ts': '1ef3154f-7690-6820-8002-005034963484'}}, metadata={'source': 'loop', 'step': 2, 'writes': {'action': {'messages': [ToolMessage(content=\"[{'url': 'https://www.wunderground.com/hourly/us/ca/los-angeles/90024/date/2024-6-30', 'content': 'Weather Underground provides local & long-range weather forecasts, weatherreports, maps & tropical weather conditions for the Los Angeles area. ... 34.06 °N, 118.44 °W Los Angeles, ...'}, {'url': 'https://www.timeanddate.com/weather/@z-us-90016/hourly', 'content': 'See weather overview Detailed Hourly Forecast — Next 24 hours Show weather on: Next 24 hours June 22, 2024 June 23, 2024 June 24, 2024 June 25, 2024 June 26, 2024 June 27, 2024 June 28, 2024'}]\", name='tavily_search_results_json', id='c01726c6-4625-40dc-b7be-a1bae0d7ecfd', tool_call_id='call_EtyP8RyLpKhfXchP8bGovHMv')]}}}, created_at='2024-06-23T11:37:26.964407+00:00', parent_config={'configurable': {'thread_id': '11', 'thread_ts': '1ef31527-48b2-6e26-8001-30b8efe6b535'}})\n",
      "--\n",
      "StateSnapshot(values={'messages': [HumanMessage(content='Whats the weather in LA?', id='f849bee2-8346-45f8-be50-e776397733ab'), AIMessage(content='', additional_kwargs={'tool_calls': [{'id': 'call_EtyP8RyLpKhfXchP8bGovHMv', 'function': {'arguments': '{\"query\":\"weather in Los Angeles\"}', 'name': 'tavily_search_results_json'}, 'type': 'function'}]}, response_metadata={'token_usage': {'completion_tokens': 21, 'prompt_tokens': 152, 'total_tokens': 173}, 'model_name': 'gpt-3.5-turbo-0125', 'system_fingerprint': None, 'finish_reason': 'tool_calls', 'logprobs': None}, id='run-97ec91ac-4a92-4857-bc55-82831097eb09-0', tool_calls=[{'name': 'tavily_search_results_json', 'args': {'query': 'current weather in Louisiana'}, 'id': 'call_EtyP8RyLpKhfXchP8bGovHMv'}], usage_metadata={'input_tokens': 152, 'output_tokens': 21, 'total_tokens': 173}), ToolMessage(content=\"[{'url': 'https://world-weather.info/forecast/usa/louisiana/june-2024/', 'content': 'Detailed ⚡ Louisiana Weather Forecast for June 2024 - day/night 🌡️ temperatures, precipitations - World-Weather.info. Add the current city. Search. Weather; Archive; Widgets °F. World; United States; Missouri; Weather in Louisiana; ... 23 +82° +70° 24 +82° +70° 25 ...'}, {'url': 'https://world-weather.info/forecast/usa/new_orleans/june-2024/', 'content': 'Extended weather forecast in New Orleans. Hourly Week 10 days 14 days 30 days Year. Detailed ⚡ New Orleans Weather Forecast for June 2024 - day/night 🌡️ temperatures, precipitations - World-Weather.info.'}]\", name='tavily_search_results_json', id='8138a9d4-0eb1-449d-8d72-143af077a09c', tool_call_id='call_EtyP8RyLpKhfXchP8bGovHMv'), AIMessage(content='I found information about the weather in Louisiana, but I need to refine the search to get the weather specifically for Los Angeles. Let me search for the current weather in Los Angeles.', additional_kwargs={'tool_calls': [{'id': 'call_bbe7k2Y39hGatgMS6XzQ67Ki', 'function': {'arguments': '{\"query\":\"current weather in Los Angeles\"}', 'name': 'tavily_search_results_json'}, 'type': 'function'}]}, response_metadata={'token_usage': {'completion_tokens': 59, 'prompt_tokens': 370, 'total_tokens': 429}, 'model_name': 'gpt-3.5-turbo-0125', 'system_fingerprint': None, 'finish_reason': 'tool_calls', 'logprobs': None}, id='run-48ff16dd-65a0-454e-ac73-46c9b856ea6f-0', tool_calls=[{'name': 'tavily_search_results_json', 'args': {'query': 'current weather in Los Angeles'}, 'id': 'call_bbe7k2Y39hGatgMS6XzQ67Ki'}], usage_metadata={'input_tokens': 370, 'output_tokens': 59, 'total_tokens': 429})]}, next=('action',), config={'configurable': {'thread_id': '11', 'thread_ts': '1ef3153a-1d22-6352-8004-34bad48a66dc'}}, metadata={'source': 'loop', 'step': 4, 'writes': {'llm': {'messages': [AIMessage(content='I found information about the weather in Louisiana, but I need to refine the search to get the weather specifically for Los Angeles. Let me search for the current weather in Los Angeles.', additional_kwargs={'tool_calls': [{'id': 'call_bbe7k2Y39hGatgMS6XzQ67Ki', 'function': {'arguments': '{\"query\":\"current weather in Los Angeles\"}', 'name': 'tavily_search_results_json'}, 'type': 'function'}]}, response_metadata={'token_usage': {'completion_tokens': 59, 'prompt_tokens': 370, 'total_tokens': 429}, 'model_name': 'gpt-3.5-turbo-0125', 'system_fingerprint': None, 'finish_reason': 'tool_calls', 'logprobs': None}, id='run-48ff16dd-65a0-454e-ac73-46c9b856ea6f-0', tool_calls=[{'name': 'tavily_search_results_json', 'args': {'query': 'current weather in Los Angeles'}, 'id': 'call_bbe7k2Y39hGatgMS6XzQ67Ki'}], usage_metadata={'input_tokens': 370, 'output_tokens': 59, 'total_tokens': 429})]}}}, created_at='2024-06-23T11:27:53.872460+00:00', parent_config={'configurable': {'thread_id': '11', 'thread_ts': '1ef3153a-0a2d-6558-8003-a63783d6f3c3'}})\n",
      "--\n",
      "StateSnapshot(values={'messages': [HumanMessage(content='Whats the weather in LA?', id='f849bee2-8346-45f8-be50-e776397733ab'), AIMessage(content='', additional_kwargs={'tool_calls': [{'id': 'call_EtyP8RyLpKhfXchP8bGovHMv', 'function': {'arguments': '{\"query\":\"weather in Los Angeles\"}', 'name': 'tavily_search_results_json'}, 'type': 'function'}]}, response_metadata={'token_usage': {'completion_tokens': 21, 'prompt_tokens': 152, 'total_tokens': 173}, 'model_name': 'gpt-3.5-turbo-0125', 'system_fingerprint': None, 'finish_reason': 'tool_calls', 'logprobs': None}, id='run-97ec91ac-4a92-4857-bc55-82831097eb09-0', tool_calls=[{'name': 'tavily_search_results_json', 'args': {'query': 'current weather in Louisiana'}, 'id': 'call_EtyP8RyLpKhfXchP8bGovHMv'}], usage_metadata={'input_tokens': 152, 'output_tokens': 21, 'total_tokens': 173}), ToolMessage(content=\"[{'url': 'https://world-weather.info/forecast/usa/louisiana/june-2024/', 'content': 'Detailed ⚡ Louisiana Weather Forecast for June 2024 - day/night 🌡️ temperatures, precipitations - World-Weather.info. Add the current city. Search. Weather; Archive; Widgets °F. World; United States; Missouri; Weather in Louisiana; ... 23 +82° +70° 24 +82° +70° 25 ...'}, {'url': 'https://world-weather.info/forecast/usa/new_orleans/june-2024/', 'content': 'Extended weather forecast in New Orleans. Hourly Week 10 days 14 days 30 days Year. Detailed ⚡ New Orleans Weather Forecast for June 2024 - day/night 🌡️ temperatures, precipitations - World-Weather.info.'}]\", name='tavily_search_results_json', id='8138a9d4-0eb1-449d-8d72-143af077a09c', tool_call_id='call_EtyP8RyLpKhfXchP8bGovHMv')]}, next=('llm',), config={'configurable': {'thread_id': '11', 'thread_ts': '1ef3153a-0a2d-6558-8003-a63783d6f3c3'}}, metadata={'source': 'loop', 'step': 3, 'writes': {'action': {'messages': [ToolMessage(content=\"[{'url': 'https://world-weather.info/forecast/usa/louisiana/june-2024/', 'content': 'Detailed ⚡ Louisiana Weather Forecast for June 2024 - day/night 🌡️ temperatures, precipitations - World-Weather.info. Add the current city. Search. Weather; Archive; Widgets °F. World; United States; Missouri; Weather in Louisiana; ... 23 +82° +70° 24 +82° +70° 25 ...'}, {'url': 'https://world-weather.info/forecast/usa/new_orleans/june-2024/', 'content': 'Extended weather forecast in New Orleans. Hourly Week 10 days 14 days 30 days Year. Detailed ⚡ New Orleans Weather Forecast for June 2024 - day/night 🌡️ temperatures, precipitations - World-Weather.info.'}]\", name='tavily_search_results_json', id='8138a9d4-0eb1-449d-8d72-143af077a09c', tool_call_id='call_EtyP8RyLpKhfXchP8bGovHMv')]}}}, created_at='2024-06-23T11:27:51.884722+00:00', parent_config={'configurable': {'thread_id': '11', 'thread_ts': '1ef31536-21bb-66f6-8002-bf56c29ebfda'}})\n",
      "--\n",
      "StateSnapshot(values={'messages': [HumanMessage(content='Whats the weather in LA?', id='f849bee2-8346-45f8-be50-e776397733ab'), AIMessage(content='', additional_kwargs={'tool_calls': [{'id': 'call_EtyP8RyLpKhfXchP8bGovHMv', 'function': {'arguments': '{\"query\":\"weather in Los Angeles\"}', 'name': 'tavily_search_results_json'}, 'type': 'function'}]}, response_metadata={'token_usage': {'completion_tokens': 21, 'prompt_tokens': 152, 'total_tokens': 173}, 'model_name': 'gpt-3.5-turbo-0125', 'system_fingerprint': None, 'finish_reason': 'tool_calls', 'logprobs': None}, id='run-97ec91ac-4a92-4857-bc55-82831097eb09-0', tool_calls=[{'name': 'tavily_search_results_json', 'args': {'query': 'current weather in Louisiana'}, 'id': 'call_EtyP8RyLpKhfXchP8bGovHMv'}], usage_metadata={'input_tokens': 152, 'output_tokens': 21, 'total_tokens': 173})]}, next=('action',), config={'configurable': {'thread_id': '11', 'thread_ts': '1ef31536-21bb-66f6-8002-bf56c29ebfda'}}, metadata={'source': 'update', 'step': 2, 'writes': {'llm': {'messages': [HumanMessage(content='Whats the weather in LA?', id='f849bee2-8346-45f8-be50-e776397733ab'), AIMessage(content='', additional_kwargs={'tool_calls': [{'id': 'call_EtyP8RyLpKhfXchP8bGovHMv', 'function': {'arguments': '{\"query\":\"weather in Los Angeles\"}', 'name': 'tavily_search_results_json'}, 'type': 'function'}]}, response_metadata={'token_usage': {'completion_tokens': 21, 'prompt_tokens': 152, 'total_tokens': 173}, 'model_name': 'gpt-3.5-turbo-0125', 'system_fingerprint': None, 'finish_reason': 'tool_calls', 'logprobs': None}, id='run-97ec91ac-4a92-4857-bc55-82831097eb09-0', tool_calls=[{'name': 'tavily_search_results_json', 'args': {'query': 'current weather in Louisiana'}, 'id': 'call_EtyP8RyLpKhfXchP8bGovHMv'}], usage_metadata={'input_tokens': 152, 'output_tokens': 21, 'total_tokens': 173})]}}}, created_at='2024-06-23T11:26:06.980471+00:00', parent_config={'configurable': {'thread_id': '11', 'thread_ts': '1ef31527-48b2-6e26-8001-30b8efe6b535'}})\n",
      "--\n",
      "StateSnapshot(values={'messages': [HumanMessage(content='Whats the weather in LA?', id='f849bee2-8346-45f8-be50-e776397733ab'), AIMessage(content='', additional_kwargs={'tool_calls': [{'id': 'call_EtyP8RyLpKhfXchP8bGovHMv', 'function': {'arguments': '{\"query\":\"weather in Los Angeles\"}', 'name': 'tavily_search_results_json'}, 'type': 'function'}]}, response_metadata={'token_usage': {'completion_tokens': 21, 'prompt_tokens': 152, 'total_tokens': 173}, 'model_name': 'gpt-3.5-turbo-0125', 'system_fingerprint': None, 'finish_reason': 'tool_calls', 'logprobs': None}, id='run-97ec91ac-4a92-4857-bc55-82831097eb09-0', tool_calls=[{'name': 'tavily_search_results_json', 'args': {'query': 'weather in Los Angeles'}, 'id': 'call_EtyP8RyLpKhfXchP8bGovHMv'}], usage_metadata={'input_tokens': 152, 'output_tokens': 21, 'total_tokens': 173})]}, next=('action',), config={'configurable': {'thread_id': '11', 'thread_ts': '1ef31527-48b2-6e26-8001-30b8efe6b535'}}, metadata={'source': 'loop', 'step': 1, 'writes': {'llm': {'messages': [AIMessage(content='', additional_kwargs={'tool_calls': [{'id': 'call_EtyP8RyLpKhfXchP8bGovHMv', 'function': {'arguments': '{\"query\":\"weather in Los Angeles\"}', 'name': 'tavily_search_results_json'}, 'type': 'function'}]}, response_metadata={'token_usage': {'completion_tokens': 21, 'prompt_tokens': 152, 'total_tokens': 173}, 'model_name': 'gpt-3.5-turbo-0125', 'system_fingerprint': None, 'finish_reason': 'tool_calls', 'logprobs': None}, id='run-97ec91ac-4a92-4857-bc55-82831097eb09-0', tool_calls=[{'name': 'tavily_search_results_json', 'args': {'query': 'weather in Los Angeles'}, 'id': 'call_EtyP8RyLpKhfXchP8bGovHMv'}], usage_metadata={'input_tokens': 152, 'output_tokens': 21, 'total_tokens': 173})]}}}, created_at='2024-06-23T11:19:28.413224+00:00', parent_config={'configurable': {'thread_id': '11', 'thread_ts': '1ef31527-3dc5-68a6-8000-6f08f198d059'}})\n",
      "--\n",
      "StateSnapshot(values={'messages': [HumanMessage(content='Whats the weather in LA?', id='f849bee2-8346-45f8-be50-e776397733ab')]}, next=('llm',), config={'configurable': {'thread_id': '11', 'thread_ts': '1ef31527-3dc5-68a6-8000-6f08f198d059'}}, metadata={'source': 'loop', 'step': 0, 'writes': None}, created_at='2024-06-23T11:19:27.267433+00:00', parent_config={'configurable': {'thread_id': '11', 'thread_ts': '1ef31527-3dbf-6f96-bfff-d7928d8e6569'}})\n",
      "--\n",
      "StateSnapshot(values={'messages': []}, next=('__start__',), config={'configurable': {'thread_id': '11', 'thread_ts': '1ef31527-3dbf-6f96-bfff-d7928d8e6569'}}, metadata={'source': 'input', 'step': -1, 'writes': {'messages': [HumanMessage(content='Whats the weather in LA?')]}}, created_at='2024-06-23T11:19:27.265157+00:00', parent_config=None)\n",
      "--\n"
     ]
    }
   ],
   "source": [
    "new_states = []\n",
    "for state in abot.graph.get_state_history(thread):\n",
    "    print(state)\n",
    "    print('--')\n",
    "    new_states.append(state)"
   ]
  },
  {
   "cell_type": "code",
   "execution_count": 38,
   "metadata": {},
   "outputs": [
    {
     "name": "stdout",
     "output_type": "stream",
     "text": [
      "Calling: {'name': 'tavily_search_results_json', 'args': {'query': 'current weather in LA, accuweather'}, 'id': 'call_EtyP8RyLpKhfXchP8bGovHMv'}\n",
      "Back to the model!\n",
      "{'messages': [ToolMessage(content='[{\\'url\\': \\'https://www.weatherapi.com/\\', \\'content\\': \"{\\'location\\': {\\'name\\': \\'Los Angeles\\', \\'region\\': \\'California\\', \\'country\\': \\'United States of America\\', \\'lat\\': 34.05, \\'lon\\': -118.24, \\'tz_id\\': \\'America/Los_Angeles\\', \\'localtime_epoch\\': 1719142862, \\'localtime\\': \\'2024-06-23 4:41\\'}, \\'current\\': {\\'last_updated_epoch\\': 1719142200, \\'last_updated\\': \\'2024-06-23 04:30\\', \\'temp_c\\': 17.2, \\'temp_f\\': 63.0, \\'is_day\\': 0, \\'condition\\': {\\'text\\': \\'Clear\\', \\'icon\\': \\'//cdn.weatherapi.com/weather/64x64/night/113.png\\', \\'code\\': 1000}, \\'wind_mph\\': 3.8, \\'wind_kph\\': 6.1, \\'wind_degree\\': 280, \\'wind_dir\\': \\'W\\', \\'pressure_mb\\': 1011.0, \\'pressure_in\\': 29.86, \\'precip_mm\\': 0.0, \\'precip_in\\': 0.0, \\'humidity\\': 87, \\'cloud\\': 0, \\'feelslike_c\\': 17.2, \\'feelslike_f\\': 63.0, \\'windchill_c\\': 22.2, \\'windchill_f\\': 72.0, \\'heatindex_c\\': 24.5, \\'heatindex_f\\': 76.1, \\'dewpoint_c\\': 11.6, \\'dewpoint_f\\': 52.8, \\'vis_km\\': 16.0, \\'vis_miles\\': 9.0, \\'uv\\': 1.0, \\'gust_mph\\': 8.3, \\'gust_kph\\': 13.3}}\"}, {\\'url\\': \\'https://www.accuweather.com/en/us/los-angeles/90012/current-weather/347625\\', \\'content\\': \\'Current weather in Los Angeles, CA. Check current conditions in Los Angeles, CA with radar, hourly, and more.\\'}]', name='tavily_search_results_json', tool_call_id='call_EtyP8RyLpKhfXchP8bGovHMv')]}\n",
      "{'messages': [HumanMessage(content='Whats the weather in LA?', id='f849bee2-8346-45f8-be50-e776397733ab'), AIMessage(content='', additional_kwargs={'tool_calls': [{'id': 'call_EtyP8RyLpKhfXchP8bGovHMv', 'function': {'arguments': '{\"query\":\"weather in Los Angeles\"}', 'name': 'tavily_search_results_json'}, 'type': 'function'}]}, response_metadata={'token_usage': {'completion_tokens': 21, 'prompt_tokens': 152, 'total_tokens': 173}, 'model_name': 'gpt-3.5-turbo-0125', 'system_fingerprint': None, 'finish_reason': 'tool_calls', 'logprobs': None}, id='run-97ec91ac-4a92-4857-bc55-82831097eb09-0', tool_calls=[{'name': 'tavily_search_results_json', 'args': {'query': 'current weather in LA, accuweather'}, 'id': 'call_EtyP8RyLpKhfXchP8bGovHMv'}], usage_metadata={'input_tokens': 152, 'output_tokens': 21, 'total_tokens': 173}), ToolMessage(content='[{\\'url\\': \\'https://www.weatherapi.com/\\', \\'content\\': \"{\\'location\\': {\\'name\\': \\'Los Angeles\\', \\'region\\': \\'California\\', \\'country\\': \\'United States of America\\', \\'lat\\': 34.05, \\'lon\\': -118.24, \\'tz_id\\': \\'America/Los_Angeles\\', \\'localtime_epoch\\': 1719142862, \\'localtime\\': \\'2024-06-23 4:41\\'}, \\'current\\': {\\'last_updated_epoch\\': 1719142200, \\'last_updated\\': \\'2024-06-23 04:30\\', \\'temp_c\\': 17.2, \\'temp_f\\': 63.0, \\'is_day\\': 0, \\'condition\\': {\\'text\\': \\'Clear\\', \\'icon\\': \\'//cdn.weatherapi.com/weather/64x64/night/113.png\\', \\'code\\': 1000}, \\'wind_mph\\': 3.8, \\'wind_kph\\': 6.1, \\'wind_degree\\': 280, \\'wind_dir\\': \\'W\\', \\'pressure_mb\\': 1011.0, \\'pressure_in\\': 29.86, \\'precip_mm\\': 0.0, \\'precip_in\\': 0.0, \\'humidity\\': 87, \\'cloud\\': 0, \\'feelslike_c\\': 17.2, \\'feelslike_f\\': 63.0, \\'windchill_c\\': 22.2, \\'windchill_f\\': 72.0, \\'heatindex_c\\': 24.5, \\'heatindex_f\\': 76.1, \\'dewpoint_c\\': 11.6, \\'dewpoint_f\\': 52.8, \\'vis_km\\': 16.0, \\'vis_miles\\': 9.0, \\'uv\\': 1.0, \\'gust_mph\\': 8.3, \\'gust_kph\\': 13.3}}\"}, {\\'url\\': \\'https://www.accuweather.com/en/us/los-angeles/90012/current-weather/347625\\', \\'content\\': \\'Current weather in Los Angeles, CA. Check current conditions in Los Angeles, CA with radar, hourly, and more.\\'}]', name='tavily_search_results_json', id='3271cd46-c229-4cc3-b8b4-b2f035bda78f', tool_call_id='call_EtyP8RyLpKhfXchP8bGovHMv'), AIMessage(content='The current weather in Los Angeles is as follows:\\n- Temperature: 63.0°F\\n- Condition: Clear\\n- Wind: 6.1 km/h from the west\\n- Pressure: 29.86 in\\n- Humidity: 87%\\n- Visibility: 9.0 miles\\n\\nIf you need more detailed information, you can visit [AccuWeather](https://www.accuweather.com/en/us/los-angeles/90012/current-weather/347625) or [WeatherAPI](https://www.weatherapi.com/) for the latest updates.', response_metadata={'token_usage': {'completion_tokens': 119, 'prompt_tokens': 653, 'total_tokens': 772}, 'model_name': 'gpt-3.5-turbo-0125', 'system_fingerprint': None, 'finish_reason': 'stop', 'logprobs': None}, id='run-100c3159-5868-44a0-a55d-a16104280fa0-0', usage_metadata={'input_tokens': 653, 'output_tokens': 119, 'total_tokens': 772})]}\n",
      "{'messages': [AIMessage(content='The current weather in Los Angeles is as follows:\\n- Temperature: 63.0°F\\n- Condition: Clear\\n- Wind: 6.1 km/h from the west\\n- Pressure: 29.86 in\\n- Humidity: 87%\\n- Visibility: 9.0 miles\\n\\nIf you need more detailed information, you can visit [AccuWeather](https://www.accuweather.com/en/us/los-angeles/90012/current-weather/347625) or [WeatherAPI](https://www.weatherapi.com/) for the latest updates.', response_metadata={'token_usage': {'completion_tokens': 119, 'prompt_tokens': 653, 'total_tokens': 772}, 'model_name': 'gpt-3.5-turbo-0125', 'system_fingerprint': None, 'finish_reason': 'stop', 'logprobs': None}, id='run-100c3159-5868-44a0-a55d-a16104280fa0-0', usage_metadata={'input_tokens': 653, 'output_tokens': 119, 'total_tokens': 772})]}\n"
     ]
    }
   ],
   "source": [
    "for event in abot.graph.stream(None, branch_state):\n",
    "    for k, v in event.items():\n",
    "        if k != \"__end__\":\n",
    "            print(v)"
   ]
  },
  {
   "cell_type": "code",
   "execution_count": 39,
   "metadata": {},
   "outputs": [
    {
     "data": {
      "text/plain": [
       "StateSnapshot(values={'messages': [HumanMessage(content='Whats the weather in LA?', id='f849bee2-8346-45f8-be50-e776397733ab'), AIMessage(content='', additional_kwargs={'tool_calls': [{'id': 'call_EtyP8RyLpKhfXchP8bGovHMv', 'function': {'arguments': '{\"query\":\"weather in Los Angeles\"}', 'name': 'tavily_search_results_json'}, 'type': 'function'}]}, response_metadata={'token_usage': {'completion_tokens': 21, 'prompt_tokens': 152, 'total_tokens': 173}, 'model_name': 'gpt-3.5-turbo-0125', 'system_fingerprint': None, 'finish_reason': 'tool_calls', 'logprobs': None}, id='run-97ec91ac-4a92-4857-bc55-82831097eb09-0', tool_calls=[{'name': 'tavily_search_results_json', 'args': {'query': 'current weather in LA, accuweather'}, 'id': 'call_EtyP8RyLpKhfXchP8bGovHMv'}], usage_metadata={'input_tokens': 152, 'output_tokens': 21, 'total_tokens': 173})]}, next=('action',), config={'configurable': {'thread_id': '11', 'thread_ts': '1ef31527-48b2-6e26-8001-30b8efe6b535'}}, metadata={'source': 'loop', 'step': 1, 'writes': {'llm': {'messages': [AIMessage(content='', additional_kwargs={'tool_calls': [{'id': 'call_EtyP8RyLpKhfXchP8bGovHMv', 'function': {'arguments': '{\"query\":\"weather in Los Angeles\"}', 'name': 'tavily_search_results_json'}, 'type': 'function'}]}, response_metadata={'token_usage': {'completion_tokens': 21, 'prompt_tokens': 152, 'total_tokens': 173}, 'model_name': 'gpt-3.5-turbo-0125', 'system_fingerprint': None, 'finish_reason': 'tool_calls', 'logprobs': None}, id='run-97ec91ac-4a92-4857-bc55-82831097eb09-0', tool_calls=[{'name': 'tavily_search_results_json', 'args': {'query': 'weather in Los Angeles'}, 'id': 'call_EtyP8RyLpKhfXchP8bGovHMv'}], usage_metadata={'input_tokens': 152, 'output_tokens': 21, 'total_tokens': 173})]}}}, created_at='2024-06-23T11:19:28.413224+00:00', parent_config={'configurable': {'thread_id': '11', 'thread_ts': '1ef31527-3dc5-68a6-8000-6f08f198d059'}})"
      ]
     },
     "execution_count": 39,
     "metadata": {},
     "output_type": "execute_result"
    }
   ],
   "source": [
    "to_replay"
   ]
  },
  {
   "cell_type": "code",
   "execution_count": 40,
   "metadata": {},
   "outputs": [],
   "source": [
    "_id = to_replay.values['messages'][-1].tool_calls[0]['id']"
   ]
  },
  {
   "cell_type": "code",
   "execution_count": 41,
   "metadata": {},
   "outputs": [],
   "source": [
    "state_update = {\"messages\": [ToolMessage(\n",
    "    tool_call_id=_id,\n",
    "    name=\"tavily_search_results_json\",\n",
    "    content=\"54 degree celcius\",\n",
    ")]}"
   ]
  },
  {
   "cell_type": "code",
   "execution_count": 42,
   "metadata": {},
   "outputs": [],
   "source": [
    "branch_and_add = abot.graph.update_state(\n",
    "    to_replay.config, \n",
    "    state_update, \n",
    "    as_node=\"action\")"
   ]
  },
  {
   "cell_type": "code",
   "execution_count": 43,
   "metadata": {},
   "outputs": [
    {
     "name": "stdout",
     "output_type": "stream",
     "text": [
      "{'messages': [HumanMessage(content='Whats the weather in LA?', id='f849bee2-8346-45f8-be50-e776397733ab'), AIMessage(content='', additional_kwargs={'tool_calls': [{'id': 'call_EtyP8RyLpKhfXchP8bGovHMv', 'function': {'arguments': '{\"query\":\"weather in Los Angeles\"}', 'name': 'tavily_search_results_json'}, 'type': 'function'}]}, response_metadata={'token_usage': {'completion_tokens': 21, 'prompt_tokens': 152, 'total_tokens': 173}, 'model_name': 'gpt-3.5-turbo-0125', 'system_fingerprint': None, 'finish_reason': 'tool_calls', 'logprobs': None}, id='run-97ec91ac-4a92-4857-bc55-82831097eb09-0', tool_calls=[{'name': 'tavily_search_results_json', 'args': {'query': 'weather in Los Angeles'}, 'id': 'call_EtyP8RyLpKhfXchP8bGovHMv'}], usage_metadata={'input_tokens': 152, 'output_tokens': 21, 'total_tokens': 173}), ToolMessage(content='54 degree celcius', name='tavily_search_results_json', id='8a8f6c9d-d87a-4ad3-aec3-bdc3599286f3', tool_call_id='call_EtyP8RyLpKhfXchP8bGovHMv'), AIMessage(content='The current temperature in Los Angeles is 54 degrees Celsius.', response_metadata={'token_usage': {'completion_tokens': 13, 'prompt_tokens': 190, 'total_tokens': 203}, 'model_name': 'gpt-3.5-turbo-0125', 'system_fingerprint': None, 'finish_reason': 'stop', 'logprobs': None}, id='run-b0948c10-8f7b-4a9e-aad2-7b42c91675a7-0', usage_metadata={'input_tokens': 190, 'output_tokens': 13, 'total_tokens': 203})]}\n",
      "{'messages': [AIMessage(content='The current temperature in Los Angeles is 54 degrees Celsius.', response_metadata={'token_usage': {'completion_tokens': 13, 'prompt_tokens': 190, 'total_tokens': 203}, 'model_name': 'gpt-3.5-turbo-0125', 'system_fingerprint': None, 'finish_reason': 'stop', 'logprobs': None}, id='run-b0948c10-8f7b-4a9e-aad2-7b42c91675a7-0', usage_metadata={'input_tokens': 190, 'output_tokens': 13, 'total_tokens': 203})]}\n"
     ]
    }
   ],
   "source": [
    "for event in abot.graph.stream(None, branch_and_add):\n",
    "    for k, v in event.items():\n",
    "        print(v)"
   ]
  },
  {
   "cell_type": "code",
   "execution_count": 44,
   "metadata": {},
   "outputs": [],
   "source": [
    "from dotenv import load_dotenv\n",
    "\n",
    "_ = load_dotenv()"
   ]
  },
  {
   "cell_type": "code",
   "execution_count": 45,
   "metadata": {},
   "outputs": [],
   "source": [
    "from langgraph.graph import StateGraph, END\n",
    "from typing import TypedDict, Annotated\n",
    "import operator\n",
    "from langgraph.checkpoint.sqlite import SqliteSaver"
   ]
  },
  {
   "cell_type": "code",
   "execution_count": 46,
   "metadata": {},
   "outputs": [],
   "source": [
    "class AgentState(TypedDict):\n",
    "    lnode: str\n",
    "    scratch: str\n",
    "    count: Annotated[int, operator.add]"
   ]
  },
  {
   "cell_type": "code",
   "execution_count": 47,
   "metadata": {},
   "outputs": [],
   "source": [
    "def node1(state: AgentState):\n",
    "    print(f\"node1, count:{state['count']}\")\n",
    "    return {\"lnode\": \"node_1\",\n",
    "            \"count\": 1,\n",
    "           }\n",
    "def node2(state: AgentState):\n",
    "    print(f\"node2, count:{state['count']}\")\n",
    "    return {\"lnode\": \"node_2\",\n",
    "            \"count\": 1,\n",
    "           }"
   ]
  },
  {
   "cell_type": "code",
   "execution_count": 48,
   "metadata": {},
   "outputs": [],
   "source": [
    "def should_continue(state):\n",
    "    return state[\"count\"] < 3"
   ]
  },
  {
   "cell_type": "code",
   "execution_count": 49,
   "metadata": {},
   "outputs": [],
   "source": [
    "builder = StateGraph(AgentState)\n",
    "builder.add_node(\"Node1\", node1)\n",
    "builder.add_node(\"Node2\", node2)\n",
    "\n",
    "builder.add_edge(\"Node1\", \"Node2\")\n",
    "builder.add_conditional_edges(\"Node2\", \n",
    "                              should_continue, \n",
    "                              {True: \"Node1\", False: END})\n",
    "builder.set_entry_point(\"Node1\")"
   ]
  },
  {
   "cell_type": "code",
   "execution_count": 50,
   "metadata": {},
   "outputs": [],
   "source": [
    "memory = SqliteSaver.from_conn_string(\":memory:\")\n",
    "graph = builder.compile(checkpointer=memory)"
   ]
  },
  {
   "cell_type": "code",
   "execution_count": 51,
   "metadata": {},
   "outputs": [
    {
     "name": "stdout",
     "output_type": "stream",
     "text": [
      "node1, count:0\n",
      "node2, count:1\n",
      "node1, count:2\n",
      "node2, count:3\n"
     ]
    },
    {
     "data": {
      "text/plain": [
       "{'lnode': 'node_2', 'scratch': 'hi', 'count': 4}"
      ]
     },
     "execution_count": 51,
     "metadata": {},
     "output_type": "execute_result"
    }
   ],
   "source": [
    "thread = {\"configurable\": {\"thread_id\": str(1)}}\n",
    "graph.invoke({\"count\":0, \"scratch\":\"hi\"},thread)"
   ]
  },
  {
   "cell_type": "code",
   "execution_count": 52,
   "metadata": {},
   "outputs": [
    {
     "data": {
      "text/plain": [
       "StateSnapshot(values={'lnode': 'node_2', 'scratch': 'hi', 'count': 4}, next=(), config={'configurable': {'thread_id': '1', 'thread_ts': '1ef315a4-f241-6208-8004-8987d1d08e8d'}}, metadata={'source': 'loop', 'step': 4, 'writes': {'Node2': {'lnode': 'node_2', 'count': 1}}}, created_at='2024-06-23T12:15:41.635630+00:00', parent_config={'configurable': {'thread_id': '1', 'thread_ts': '1ef315a4-f23c-6d70-8003-53d83d4bcf0c'}})"
      ]
     },
     "execution_count": 52,
     "metadata": {},
     "output_type": "execute_result"
    }
   ],
   "source": [
    "graph.get_state(thread)"
   ]
  },
  {
   "cell_type": "code",
   "execution_count": 53,
   "metadata": {},
   "outputs": [
    {
     "name": "stdout",
     "output_type": "stream",
     "text": [
      "StateSnapshot(values={'lnode': 'node_2', 'scratch': 'hi', 'count': 4}, next=(), config={'configurable': {'thread_id': '1', 'thread_ts': '1ef315a4-f241-6208-8004-8987d1d08e8d'}}, metadata={'source': 'loop', 'step': 4, 'writes': {'Node2': {'lnode': 'node_2', 'count': 1}}}, created_at='2024-06-23T12:15:41.635630+00:00', parent_config={'configurable': {'thread_id': '1', 'thread_ts': '1ef315a4-f23c-6d70-8003-53d83d4bcf0c'}}) \n",
      "\n",
      "StateSnapshot(values={'lnode': 'node_1', 'scratch': 'hi', 'count': 3}, next=('Node2',), config={'configurable': {'thread_id': '1', 'thread_ts': '1ef315a4-f23c-6d70-8003-53d83d4bcf0c'}}, metadata={'source': 'loop', 'step': 3, 'writes': {'Node1': {'lnode': 'node_1', 'count': 1}}}, created_at='2024-06-23T12:15:41.633873+00:00', parent_config={'configurable': {'thread_id': '1', 'thread_ts': '1ef315a4-f239-6008-8002-196fd27e4b9b'}}) \n",
      "\n",
      "StateSnapshot(values={'lnode': 'node_2', 'scratch': 'hi', 'count': 2}, next=('Node1',), config={'configurable': {'thread_id': '1', 'thread_ts': '1ef315a4-f239-6008-8002-196fd27e4b9b'}}, metadata={'source': 'loop', 'step': 2, 'writes': {'Node2': {'lnode': 'node_2', 'count': 1}}}, created_at='2024-06-23T12:15:41.632291+00:00', parent_config={'configurable': {'thread_id': '1', 'thread_ts': '1ef315a4-f231-6a4c-8001-d1f83b9eca20'}}) \n",
      "\n",
      "StateSnapshot(values={'lnode': 'node_1', 'scratch': 'hi', 'count': 1}, next=('Node2',), config={'configurable': {'thread_id': '1', 'thread_ts': '1ef315a4-f231-6a4c-8001-d1f83b9eca20'}}, metadata={'source': 'loop', 'step': 1, 'writes': {'Node1': {'lnode': 'node_1', 'count': 1}}}, created_at='2024-06-23T12:15:41.629288+00:00', parent_config={'configurable': {'thread_id': '1', 'thread_ts': '1ef315a4-f22b-68f4-8000-1e0ca26db8d0'}}) \n",
      "\n",
      "StateSnapshot(values={'scratch': 'hi', 'count': 0}, next=('Node1',), config={'configurable': {'thread_id': '1', 'thread_ts': '1ef315a4-f22b-68f4-8000-1e0ca26db8d0'}}, metadata={'source': 'loop', 'step': 0, 'writes': None}, created_at='2024-06-23T12:15:41.626787+00:00', parent_config={'configurable': {'thread_id': '1', 'thread_ts': '1ef315a4-f227-6ede-bfff-ced97af19e30'}}) \n",
      "\n",
      "StateSnapshot(values={'count': 0}, next=('__start__',), config={'configurable': {'thread_id': '1', 'thread_ts': '1ef315a4-f227-6ede-bfff-ced97af19e30'}}, metadata={'source': 'input', 'step': -1, 'writes': {'count': 0, 'scratch': 'hi'}}, created_at='2024-06-23T12:15:41.625304+00:00', parent_config=None) \n",
      "\n"
     ]
    }
   ],
   "source": [
    "for state in graph.get_state_history(thread):\n",
    "    print(state, \"\\n\")"
   ]
  },
  {
   "cell_type": "code",
   "execution_count": 54,
   "metadata": {},
   "outputs": [
    {
     "name": "stdout",
     "output_type": "stream",
     "text": [
      "{'configurable': {'thread_id': '1', 'thread_ts': '1ef315a4-f241-6208-8004-8987d1d08e8d'}} 4\n",
      "{'configurable': {'thread_id': '1', 'thread_ts': '1ef315a4-f23c-6d70-8003-53d83d4bcf0c'}} 3\n",
      "{'configurable': {'thread_id': '1', 'thread_ts': '1ef315a4-f239-6008-8002-196fd27e4b9b'}} 2\n",
      "{'configurable': {'thread_id': '1', 'thread_ts': '1ef315a4-f231-6a4c-8001-d1f83b9eca20'}} 1\n",
      "{'configurable': {'thread_id': '1', 'thread_ts': '1ef315a4-f22b-68f4-8000-1e0ca26db8d0'}} 0\n",
      "{'configurable': {'thread_id': '1', 'thread_ts': '1ef315a4-f227-6ede-bfff-ced97af19e30'}} 0\n"
     ]
    }
   ],
   "source": [
    "states = []\n",
    "for state in graph.get_state_history(thread):\n",
    "    states.append(state.config)\n",
    "    print(state.config, state.values['count'])"
   ]
  },
  {
   "cell_type": "code",
   "execution_count": 55,
   "metadata": {},
   "outputs": [
    {
     "data": {
      "text/plain": [
       "{'configurable': {'thread_id': '1',\n",
       "  'thread_ts': '1ef315a4-f231-6a4c-8001-d1f83b9eca20'}}"
      ]
     },
     "execution_count": 55,
     "metadata": {},
     "output_type": "execute_result"
    }
   ],
   "source": [
    "states[-3]"
   ]
  },
  {
   "cell_type": "code",
   "execution_count": 56,
   "metadata": {},
   "outputs": [
    {
     "data": {
      "text/plain": [
       "StateSnapshot(values={'lnode': 'node_1', 'scratch': 'hi', 'count': 1}, next=('Node2',), config={'configurable': {'thread_id': '1', 'thread_ts': '1ef315a4-f231-6a4c-8001-d1f83b9eca20'}}, metadata={'source': 'loop', 'step': 1, 'writes': {'Node1': {'lnode': 'node_1', 'count': 1}}}, created_at='2024-06-23T12:15:41.629288+00:00', parent_config={'configurable': {'thread_id': '1', 'thread_ts': '1ef315a4-f22b-68f4-8000-1e0ca26db8d0'}})"
      ]
     },
     "execution_count": 56,
     "metadata": {},
     "output_type": "execute_result"
    }
   ],
   "source": [
    "graph.get_state(states[-3])"
   ]
  },
  {
   "cell_type": "code",
   "execution_count": 57,
   "metadata": {},
   "outputs": [
    {
     "name": "stdout",
     "output_type": "stream",
     "text": [
      "node2, count:1\n",
      "node1, count:2\n",
      "node2, count:3\n"
     ]
    },
    {
     "data": {
      "text/plain": [
       "{'lnode': 'node_2', 'scratch': 'hi', 'count': 4}"
      ]
     },
     "execution_count": 57,
     "metadata": {},
     "output_type": "execute_result"
    }
   ],
   "source": [
    "graph.invoke(None, states[-3])"
   ]
  },
  {
   "cell_type": "code",
   "execution_count": 58,
   "metadata": {},
   "outputs": [
    {
     "name": "stdout",
     "output_type": "stream",
     "text": [
      "{'configurable': {'thread_id': '1', 'thread_ts': '1ef3163e-2d00-6530-8004-5a1588e2495b'}} 4\n",
      "{'configurable': {'thread_id': '1', 'thread_ts': '1ef3163e-2cfb-6652-8003-ccc32e3d328b'}} 3\n",
      "{'configurable': {'thread_id': '1', 'thread_ts': '1ef3163e-2cf6-6b0c-8002-254994553101'}} 2\n",
      "{'configurable': {'thread_id': '1', 'thread_ts': '1ef315a4-f241-6208-8004-8987d1d08e8d'}} 4\n",
      "{'configurable': {'thread_id': '1', 'thread_ts': '1ef315a4-f23c-6d70-8003-53d83d4bcf0c'}} 3\n",
      "{'configurable': {'thread_id': '1', 'thread_ts': '1ef315a4-f239-6008-8002-196fd27e4b9b'}} 2\n",
      "{'configurable': {'thread_id': '1', 'thread_ts': '1ef315a4-f231-6a4c-8001-d1f83b9eca20'}} 1\n",
      "{'configurable': {'thread_id': '1', 'thread_ts': '1ef315a4-f22b-68f4-8000-1e0ca26db8d0'}} 0\n",
      "{'configurable': {'thread_id': '1', 'thread_ts': '1ef315a4-f227-6ede-bfff-ced97af19e30'}} 0\n"
     ]
    }
   ],
   "source": [
    "thread = {\"configurable\": {\"thread_id\": str(1)}}\n",
    "for state in graph.get_state_history(thread):\n",
    "    print(state.config, state.values['count'])"
   ]
  },
  {
   "cell_type": "code",
   "execution_count": 59,
   "metadata": {},
   "outputs": [
    {
     "name": "stdout",
     "output_type": "stream",
     "text": [
      "StateSnapshot(values={'lnode': 'node_2', 'scratch': 'hi', 'count': 4}, next=(), config={'configurable': {'thread_id': '1', 'thread_ts': '1ef3163e-2d00-6530-8004-5a1588e2495b'}}, metadata={'source': 'loop', 'step': 4, 'writes': {'Node2': {'lnode': 'node_2', 'count': 1}}}, created_at='2024-06-23T13:24:14.858155+00:00', parent_config={'configurable': {'thread_id': '1', 'thread_ts': '1ef3163e-2cfb-6652-8003-ccc32e3d328b'}}) \n",
      "\n",
      "StateSnapshot(values={'lnode': 'node_1', 'scratch': 'hi', 'count': 3}, next=('Node2',), config={'configurable': {'thread_id': '1', 'thread_ts': '1ef3163e-2cfb-6652-8003-ccc32e3d328b'}}, metadata={'source': 'loop', 'step': 3, 'writes': {'Node1': {'lnode': 'node_1', 'count': 1}}}, created_at='2024-06-23T13:24:14.856138+00:00', parent_config={'configurable': {'thread_id': '1', 'thread_ts': '1ef3163e-2cf6-6b0c-8002-254994553101'}}) \n",
      "\n",
      "StateSnapshot(values={'lnode': 'node_2', 'scratch': 'hi', 'count': 2}, next=('Node1',), config={'configurable': {'thread_id': '1', 'thread_ts': '1ef3163e-2cf6-6b0c-8002-254994553101'}}, metadata={'source': 'loop', 'step': 2, 'writes': {'Node2': {'lnode': 'node_2', 'count': 1}}}, created_at='2024-06-23T13:24:14.854216+00:00', parent_config={'configurable': {'thread_id': '1', 'thread_ts': '1ef315a4-f231-6a4c-8001-d1f83b9eca20'}}) \n",
      "\n",
      "StateSnapshot(values={'lnode': 'node_2', 'scratch': 'hi', 'count': 4}, next=(), config={'configurable': {'thread_id': '1', 'thread_ts': '1ef315a4-f241-6208-8004-8987d1d08e8d'}}, metadata={'source': 'loop', 'step': 4, 'writes': {'Node2': {'lnode': 'node_2', 'count': 1}}}, created_at='2024-06-23T12:15:41.635630+00:00', parent_config={'configurable': {'thread_id': '1', 'thread_ts': '1ef315a4-f23c-6d70-8003-53d83d4bcf0c'}}) \n",
      "\n",
      "StateSnapshot(values={'lnode': 'node_1', 'scratch': 'hi', 'count': 3}, next=('Node2',), config={'configurable': {'thread_id': '1', 'thread_ts': '1ef315a4-f23c-6d70-8003-53d83d4bcf0c'}}, metadata={'source': 'loop', 'step': 3, 'writes': {'Node1': {'lnode': 'node_1', 'count': 1}}}, created_at='2024-06-23T12:15:41.633873+00:00', parent_config={'configurable': {'thread_id': '1', 'thread_ts': '1ef315a4-f239-6008-8002-196fd27e4b9b'}}) \n",
      "\n",
      "StateSnapshot(values={'lnode': 'node_2', 'scratch': 'hi', 'count': 2}, next=('Node1',), config={'configurable': {'thread_id': '1', 'thread_ts': '1ef315a4-f239-6008-8002-196fd27e4b9b'}}, metadata={'source': 'loop', 'step': 2, 'writes': {'Node2': {'lnode': 'node_2', 'count': 1}}}, created_at='2024-06-23T12:15:41.632291+00:00', parent_config={'configurable': {'thread_id': '1', 'thread_ts': '1ef315a4-f231-6a4c-8001-d1f83b9eca20'}}) \n",
      "\n",
      "StateSnapshot(values={'lnode': 'node_1', 'scratch': 'hi', 'count': 1}, next=('Node2',), config={'configurable': {'thread_id': '1', 'thread_ts': '1ef315a4-f231-6a4c-8001-d1f83b9eca20'}}, metadata={'source': 'loop', 'step': 1, 'writes': {'Node1': {'lnode': 'node_1', 'count': 1}}}, created_at='2024-06-23T12:15:41.629288+00:00', parent_config={'configurable': {'thread_id': '1', 'thread_ts': '1ef315a4-f22b-68f4-8000-1e0ca26db8d0'}}) \n",
      "\n",
      "StateSnapshot(values={'scratch': 'hi', 'count': 0}, next=('Node1',), config={'configurable': {'thread_id': '1', 'thread_ts': '1ef315a4-f22b-68f4-8000-1e0ca26db8d0'}}, metadata={'source': 'loop', 'step': 0, 'writes': None}, created_at='2024-06-23T12:15:41.626787+00:00', parent_config={'configurable': {'thread_id': '1', 'thread_ts': '1ef315a4-f227-6ede-bfff-ced97af19e30'}}) \n",
      "\n",
      "StateSnapshot(values={'count': 0}, next=('__start__',), config={'configurable': {'thread_id': '1', 'thread_ts': '1ef315a4-f227-6ede-bfff-ced97af19e30'}}, metadata={'source': 'input', 'step': -1, 'writes': {'count': 0, 'scratch': 'hi'}}, created_at='2024-06-23T12:15:41.625304+00:00', parent_config=None) \n",
      "\n"
     ]
    }
   ],
   "source": [
    "thread = {\"configurable\": {\"thread_id\": str(1)}}\n",
    "for state in graph.get_state_history(thread):\n",
    "    print(state,\"\\n\")"
   ]
  },
  {
   "cell_type": "code",
   "execution_count": 60,
   "metadata": {},
   "outputs": [
    {
     "name": "stdout",
     "output_type": "stream",
     "text": [
      "node1, count:0\n",
      "node2, count:1\n",
      "node1, count:2\n",
      "node2, count:3\n"
     ]
    },
    {
     "data": {
      "text/plain": [
       "{'lnode': 'node_2', 'scratch': 'hi', 'count': 4}"
      ]
     },
     "execution_count": 60,
     "metadata": {},
     "output_type": "execute_result"
    }
   ],
   "source": [
    "thread2 = {\"configurable\": {\"thread_id\": str(2)}}\n",
    "graph.invoke({\"count\":0, \"scratch\":\"hi\"},thread2)"
   ]
  },
  {
   "cell_type": "code",
   "execution_count": 62,
   "metadata": {},
   "outputs": [
    {
     "name": "stdout",
     "output_type": "stream",
     "text": [
      "{'configurable': {'thread_id': '2', 'thread_ts': '1ef31646-336f-60f8-8004-796fa5fcb781'}} 4\n",
      "{'configurable': {'thread_id': '2', 'thread_ts': '1ef31646-3369-6a5e-8003-b1e5d4af2de6'}} 3\n",
      "{'configurable': {'thread_id': '2', 'thread_ts': '1ef31646-3365-6d64-8002-b588e9a6b4b2'}} 2\n",
      "{'configurable': {'thread_id': '2', 'thread_ts': '1ef31646-335f-6842-8001-2a1ac974b032'}} 1\n",
      "{'configurable': {'thread_id': '2', 'thread_ts': '1ef31646-335a-6298-8000-5705f0fa13b6'}} 0\n",
      "{'configurable': {'thread_id': '2', 'thread_ts': '1ef31646-3356-6210-bfff-f9e9d385547b'}} 0\n"
     ]
    }
   ],
   "source": [
    "states2 = []\n",
    "for state in graph.get_state_history(thread2):\n",
    "    states2.append(state.config)\n",
    "    print(state.config, state.values['count'])   "
   ]
  },
  {
   "cell_type": "code",
   "execution_count": 63,
   "metadata": {},
   "outputs": [
    {
     "data": {
      "text/plain": [
       "StateSnapshot(values={'lnode': 'node_1', 'scratch': 'hi', 'count': 1}, next=('Node2',), config={'configurable': {'thread_id': '2', 'thread_ts': '1ef31646-335f-6842-8001-2a1ac974b032'}}, metadata={'source': 'loop', 'step': 1, 'writes': {'Node1': {'lnode': 'node_1', 'count': 1}}}, created_at='2024-06-23T13:27:50.274655+00:00', parent_config={'configurable': {'thread_id': '2', 'thread_ts': '1ef31646-335a-6298-8000-5705f0fa13b6'}})"
      ]
     },
     "execution_count": 63,
     "metadata": {},
     "output_type": "execute_result"
    }
   ],
   "source": [
    "save_state = graph.get_state(states2[-3])\n",
    "save_state"
   ]
  },
  {
   "cell_type": "code",
   "execution_count": 64,
   "metadata": {},
   "outputs": [
    {
     "data": {
      "text/plain": [
       "StateSnapshot(values={'lnode': 'node_1', 'scratch': 'hello', 'count': -3}, next=('Node2',), config={'configurable': {'thread_id': '2', 'thread_ts': '1ef31646-335f-6842-8001-2a1ac974b032'}}, metadata={'source': 'loop', 'step': 1, 'writes': {'Node1': {'lnode': 'node_1', 'count': 1}}}, created_at='2024-06-23T13:27:50.274655+00:00', parent_config={'configurable': {'thread_id': '2', 'thread_ts': '1ef31646-335a-6298-8000-5705f0fa13b6'}})"
      ]
     },
     "execution_count": 64,
     "metadata": {},
     "output_type": "execute_result"
    }
   ],
   "source": [
    "save_state.values[\"count\"] = -3\n",
    "save_state.values[\"scratch\"] = \"hello\"\n",
    "save_state"
   ]
  },
  {
   "cell_type": "code",
   "execution_count": 65,
   "metadata": {},
   "outputs": [
    {
     "data": {
      "text/plain": [
       "{'configurable': {'thread_id': '2',\n",
       "  'thread_ts': '1ef31656-dd8a-67d0-8005-2280206e053f'}}"
      ]
     },
     "execution_count": 65,
     "metadata": {},
     "output_type": "execute_result"
    }
   ],
   "source": [
    "graph.update_state(thread2,save_state.values)"
   ]
  },
  {
   "cell_type": "code",
   "execution_count": 66,
   "metadata": {},
   "outputs": [
    {
     "name": "stdout",
     "output_type": "stream",
     "text": [
      "StateSnapshot(values={'lnode': 'node_1', 'scratch': 'hello', 'count': 1}, next=('Node1',), config={'configurable': {'thread_id': '2', 'thread_ts': '1ef31656-dd8a-67d0-8005-2280206e053f'}}, metadata={'source': 'update', 'step': 5, 'writes': {'Node2': {'lnode': 'node_1', 'scratch': 'hello', 'count': -3}}}, created_at='2024-06-23T13:35:17.614786+00:00', parent_config={'configurable': {'thread_id': '2', 'thread_ts': '1ef31646-336f-60f8-8004-796fa5fcb781'}}) \n",
      "\n",
      "StateSnapshot(values={'lnode': 'node_2', 'scratch': 'hi', 'count': 4}, next=(), config={'configurable': {'thread_id': '2', 'thread_ts': '1ef31646-336f-60f8-8004-796fa5fcb781'}}, metadata={'source': 'loop', 'step': 4, 'writes': {'Node2': {'lnode': 'node_2', 'count': 1}}}, created_at='2024-06-23T13:27:50.281029+00:00', parent_config={'configurable': {'thread_id': '2', 'thread_ts': '1ef31646-3369-6a5e-8003-b1e5d4af2de6'}}) \n",
      "\n",
      "StateSnapshot(values={'lnode': 'node_1', 'scratch': 'hi', 'count': 3}, next=('Node2',), config={'configurable': {'thread_id': '2', 'thread_ts': '1ef31646-3369-6a5e-8003-b1e5d4af2de6'}}, metadata={'source': 'loop', 'step': 3, 'writes': {'Node1': {'lnode': 'node_1', 'count': 1}}}, created_at='2024-06-23T13:27:50.278812+00:00', parent_config={'configurable': {'thread_id': '2', 'thread_ts': '1ef31646-3365-6d64-8002-b588e9a6b4b2'}}) \n",
      "\n",
      "StateSnapshot(values={'lnode': 'node_2', 'scratch': 'hi', 'count': 2}, next=('Node1',), config={'configurable': {'thread_id': '2', 'thread_ts': '1ef31646-3365-6d64-8002-b588e9a6b4b2'}}, metadata={'source': 'loop', 'step': 2, 'writes': {'Node2': {'lnode': 'node_2', 'count': 1}}}, created_at='2024-06-23T13:27:50.277246+00:00', parent_config={'configurable': {'thread_id': '2', 'thread_ts': '1ef31646-335f-6842-8001-2a1ac974b032'}}) \n",
      "\n",
      "StateSnapshot(values={'lnode': 'node_1', 'scratch': 'hi', 'count': 1}, next=('Node2',), config={'configurable': {'thread_id': '2', 'thread_ts': '1ef31646-335f-6842-8001-2a1ac974b032'}}, metadata={'source': 'loop', 'step': 1, 'writes': {'Node1': {'lnode': 'node_1', 'count': 1}}}, created_at='2024-06-23T13:27:50.274655+00:00', parent_config={'configurable': {'thread_id': '2', 'thread_ts': '1ef31646-335a-6298-8000-5705f0fa13b6'}}) \n",
      "\n",
      "StateSnapshot(values={'scratch': 'hi', 'count': 0}, next=('Node1',), config={'configurable': {'thread_id': '2', 'thread_ts': '1ef31646-335a-6298-8000-5705f0fa13b6'}}, metadata={'source': 'loop', 'step': 0, 'writes': None}, created_at='2024-06-23T13:27:50.272466+00:00', parent_config={'configurable': {'thread_id': '2', 'thread_ts': '1ef31646-3356-6210-bfff-f9e9d385547b'}}) \n",
      "\n",
      "StateSnapshot(values={'count': 0}, next=('__start__',), config={'configurable': {'thread_id': '2', 'thread_ts': '1ef31646-3356-6210-bfff-f9e9d385547b'}}, metadata={'source': 'input', 'step': -1, 'writes': {'count': 0, 'scratch': 'hi'}}, created_at='2024-06-23T13:27:50.270813+00:00', parent_config=None) \n",
      "\n"
     ]
    }
   ],
   "source": [
    "for i, state in enumerate(graph.get_state_history(thread2)):\n",
    "    print(state, '\\n')"
   ]
  },
  {
   "cell_type": "code",
   "execution_count": 67,
   "metadata": {},
   "outputs": [
    {
     "data": {
      "text/plain": [
       "{'configurable': {'thread_id': '2',\n",
       "  'thread_ts': '1ef31660-eabe-6d16-8006-1ef4322ccaad'}}"
      ]
     },
     "execution_count": 67,
     "metadata": {},
     "output_type": "execute_result"
    }
   ],
   "source": [
    "graph.update_state(thread2,save_state.values, as_node=\"Node1\")"
   ]
  },
  {
   "cell_type": "code",
   "execution_count": 68,
   "metadata": {},
   "outputs": [
    {
     "name": "stdout",
     "output_type": "stream",
     "text": [
      "StateSnapshot(values={'lnode': 'node_1', 'scratch': 'hello', 'count': -2}, next=('Node2',), config={'configurable': {'thread_id': '2', 'thread_ts': '1ef31660-eabe-6d16-8006-1ef4322ccaad'}}, metadata={'source': 'update', 'step': 6, 'writes': {'Node1': {'lnode': 'node_1', 'scratch': 'hello', 'count': -3}}}, created_at='2024-06-23T13:39:47.434823+00:00', parent_config={'configurable': {'thread_id': '2', 'thread_ts': '1ef31656-dd8a-67d0-8005-2280206e053f'}}) \n",
      "\n",
      "StateSnapshot(values={'lnode': 'node_1', 'scratch': 'hello', 'count': 1}, next=('Node1',), config={'configurable': {'thread_id': '2', 'thread_ts': '1ef31656-dd8a-67d0-8005-2280206e053f'}}, metadata={'source': 'update', 'step': 5, 'writes': {'Node2': {'lnode': 'node_1', 'scratch': 'hello', 'count': -3}}}, created_at='2024-06-23T13:35:17.614786+00:00', parent_config={'configurable': {'thread_id': '2', 'thread_ts': '1ef31646-336f-60f8-8004-796fa5fcb781'}}) \n",
      "\n",
      "StateSnapshot(values={'lnode': 'node_2', 'scratch': 'hi', 'count': 4}, next=(), config={'configurable': {'thread_id': '2', 'thread_ts': '1ef31646-336f-60f8-8004-796fa5fcb781'}}, metadata={'source': 'loop', 'step': 4, 'writes': {'Node2': {'lnode': 'node_2', 'count': 1}}}, created_at='2024-06-23T13:27:50.281029+00:00', parent_config={'configurable': {'thread_id': '2', 'thread_ts': '1ef31646-3369-6a5e-8003-b1e5d4af2de6'}}) \n",
      "\n",
      "StateSnapshot(values={'lnode': 'node_1', 'scratch': 'hi', 'count': 3}, next=('Node2',), config={'configurable': {'thread_id': '2', 'thread_ts': '1ef31646-3369-6a5e-8003-b1e5d4af2de6'}}, metadata={'source': 'loop', 'step': 3, 'writes': {'Node1': {'lnode': 'node_1', 'count': 1}}}, created_at='2024-06-23T13:27:50.278812+00:00', parent_config={'configurable': {'thread_id': '2', 'thread_ts': '1ef31646-3365-6d64-8002-b588e9a6b4b2'}}) \n",
      "\n",
      "StateSnapshot(values={'lnode': 'node_2', 'scratch': 'hi', 'count': 2}, next=('Node1',), config={'configurable': {'thread_id': '2', 'thread_ts': '1ef31646-3365-6d64-8002-b588e9a6b4b2'}}, metadata={'source': 'loop', 'step': 2, 'writes': {'Node2': {'lnode': 'node_2', 'count': 1}}}, created_at='2024-06-23T13:27:50.277246+00:00', parent_config={'configurable': {'thread_id': '2', 'thread_ts': '1ef31646-335f-6842-8001-2a1ac974b032'}}) \n",
      "\n",
      "StateSnapshot(values={'lnode': 'node_1', 'scratch': 'hi', 'count': 1}, next=('Node2',), config={'configurable': {'thread_id': '2', 'thread_ts': '1ef31646-335f-6842-8001-2a1ac974b032'}}, metadata={'source': 'loop', 'step': 1, 'writes': {'Node1': {'lnode': 'node_1', 'count': 1}}}, created_at='2024-06-23T13:27:50.274655+00:00', parent_config={'configurable': {'thread_id': '2', 'thread_ts': '1ef31646-335a-6298-8000-5705f0fa13b6'}}) \n",
      "\n",
      "StateSnapshot(values={'scratch': 'hi', 'count': 0}, next=('Node1',), config={'configurable': {'thread_id': '2', 'thread_ts': '1ef31646-335a-6298-8000-5705f0fa13b6'}}, metadata={'source': 'loop', 'step': 0, 'writes': None}, created_at='2024-06-23T13:27:50.272466+00:00', parent_config={'configurable': {'thread_id': '2', 'thread_ts': '1ef31646-3356-6210-bfff-f9e9d385547b'}}) \n",
      "\n",
      "StateSnapshot(values={'count': 0}, next=('__start__',), config={'configurable': {'thread_id': '2', 'thread_ts': '1ef31646-3356-6210-bfff-f9e9d385547b'}}, metadata={'source': 'input', 'step': -1, 'writes': {'count': 0, 'scratch': 'hi'}}, created_at='2024-06-23T13:27:50.270813+00:00', parent_config=None) \n",
      "\n"
     ]
    }
   ],
   "source": [
    "for i, state in enumerate(graph.get_state_history(thread2)):\n",
    "    print(state, '\\n')"
   ]
  },
  {
   "cell_type": "code",
   "execution_count": 69,
   "metadata": {},
   "outputs": [
    {
     "name": "stdout",
     "output_type": "stream",
     "text": [
      "node2, count:-2\n",
      "node1, count:-1\n",
      "node2, count:0\n",
      "node1, count:1\n",
      "node2, count:2\n"
     ]
    },
    {
     "data": {
      "text/plain": [
       "{'lnode': 'node_2', 'scratch': 'hello', 'count': 3}"
      ]
     },
     "execution_count": 69,
     "metadata": {},
     "output_type": "execute_result"
    }
   ],
   "source": [
    "graph.invoke(None,thread2)"
   ]
  },
  {
   "cell_type": "code",
   "execution_count": 70,
   "metadata": {},
   "outputs": [
    {
     "name": "stdout",
     "output_type": "stream",
     "text": [
      "StateSnapshot(values={'lnode': 'node_2', 'scratch': 'hello', 'count': 3}, next=(), config={'configurable': {'thread_id': '2', 'thread_ts': '1ef31662-d35c-6e64-800b-ab30205d4d1e'}}, metadata={'source': 'loop', 'step': 11, 'writes': {'Node2': {'lnode': 'node_2', 'count': 1}}}, created_at='2024-06-23T13:40:38.670075+00:00', parent_config={'configurable': {'thread_id': '2', 'thread_ts': '1ef31662-d357-6e82-800a-9d9968aa259b'}}) \n",
      "\n",
      "StateSnapshot(values={'lnode': 'node_1', 'scratch': 'hello', 'count': 2}, next=('Node2',), config={'configurable': {'thread_id': '2', 'thread_ts': '1ef31662-d357-6e82-800a-9d9968aa259b'}}, metadata={'source': 'loop', 'step': 10, 'writes': {'Node1': {'lnode': 'node_1', 'count': 1}}}, created_at='2024-06-23T13:40:38.668036+00:00', parent_config={'configurable': {'thread_id': '2', 'thread_ts': '1ef31662-d351-67e4-8009-baae28394b1c'}}) \n",
      "\n",
      "StateSnapshot(values={'lnode': 'node_2', 'scratch': 'hello', 'count': 1}, next=('Node1',), config={'configurable': {'thread_id': '2', 'thread_ts': '1ef31662-d351-67e4-8009-baae28394b1c'}}, metadata={'source': 'loop', 'step': 9, 'writes': {'Node2': {'lnode': 'node_2', 'count': 1}}}, created_at='2024-06-23T13:40:38.665411+00:00', parent_config={'configurable': {'thread_id': '2', 'thread_ts': '1ef31662-d34a-6f20-8008-fa3db8153387'}}) \n",
      "\n",
      "StateSnapshot(values={'lnode': 'node_1', 'scratch': 'hello', 'count': 0}, next=('Node2',), config={'configurable': {'thread_id': '2', 'thread_ts': '1ef31662-d34a-6f20-8008-fa3db8153387'}}, metadata={'source': 'loop', 'step': 8, 'writes': {'Node1': {'lnode': 'node_1', 'count': 1}}}, created_at='2024-06-23T13:40:38.662726+00:00', parent_config={'configurable': {'thread_id': '2', 'thread_ts': '1ef31662-d345-6e8a-8007-b015a544ade5'}}) \n",
      "\n",
      "StateSnapshot(values={'lnode': 'node_2', 'scratch': 'hello', 'count': -1}, next=('Node1',), config={'configurable': {'thread_id': '2', 'thread_ts': '1ef31662-d345-6e8a-8007-b015a544ade5'}}, metadata={'source': 'loop', 'step': 7, 'writes': {'Node2': {'lnode': 'node_2', 'count': 1}}}, created_at='2024-06-23T13:40:38.660656+00:00', parent_config={'configurable': {'thread_id': '2', 'thread_ts': '1ef31660-eabe-6d16-8006-1ef4322ccaad'}}) \n",
      "\n",
      "StateSnapshot(values={'lnode': 'node_1', 'scratch': 'hello', 'count': -2}, next=('Node2',), config={'configurable': {'thread_id': '2', 'thread_ts': '1ef31660-eabe-6d16-8006-1ef4322ccaad'}}, metadata={'source': 'update', 'step': 6, 'writes': {'Node1': {'lnode': 'node_1', 'scratch': 'hello', 'count': -3}}}, created_at='2024-06-23T13:39:47.434823+00:00', parent_config={'configurable': {'thread_id': '2', 'thread_ts': '1ef31656-dd8a-67d0-8005-2280206e053f'}}) \n",
      "\n",
      "StateSnapshot(values={'lnode': 'node_1', 'scratch': 'hello', 'count': 1}, next=('Node1',), config={'configurable': {'thread_id': '2', 'thread_ts': '1ef31656-dd8a-67d0-8005-2280206e053f'}}, metadata={'source': 'update', 'step': 5, 'writes': {'Node2': {'lnode': 'node_1', 'scratch': 'hello', 'count': -3}}}, created_at='2024-06-23T13:35:17.614786+00:00', parent_config={'configurable': {'thread_id': '2', 'thread_ts': '1ef31646-336f-60f8-8004-796fa5fcb781'}}) \n",
      "\n",
      "StateSnapshot(values={'lnode': 'node_2', 'scratch': 'hi', 'count': 4}, next=(), config={'configurable': {'thread_id': '2', 'thread_ts': '1ef31646-336f-60f8-8004-796fa5fcb781'}}, metadata={'source': 'loop', 'step': 4, 'writes': {'Node2': {'lnode': 'node_2', 'count': 1}}}, created_at='2024-06-23T13:27:50.281029+00:00', parent_config={'configurable': {'thread_id': '2', 'thread_ts': '1ef31646-3369-6a5e-8003-b1e5d4af2de6'}}) \n",
      "\n",
      "StateSnapshot(values={'lnode': 'node_1', 'scratch': 'hi', 'count': 3}, next=('Node2',), config={'configurable': {'thread_id': '2', 'thread_ts': '1ef31646-3369-6a5e-8003-b1e5d4af2de6'}}, metadata={'source': 'loop', 'step': 3, 'writes': {'Node1': {'lnode': 'node_1', 'count': 1}}}, created_at='2024-06-23T13:27:50.278812+00:00', parent_config={'configurable': {'thread_id': '2', 'thread_ts': '1ef31646-3365-6d64-8002-b588e9a6b4b2'}}) \n",
      "\n",
      "StateSnapshot(values={'lnode': 'node_2', 'scratch': 'hi', 'count': 2}, next=('Node1',), config={'configurable': {'thread_id': '2', 'thread_ts': '1ef31646-3365-6d64-8002-b588e9a6b4b2'}}, metadata={'source': 'loop', 'step': 2, 'writes': {'Node2': {'lnode': 'node_2', 'count': 1}}}, created_at='2024-06-23T13:27:50.277246+00:00', parent_config={'configurable': {'thread_id': '2', 'thread_ts': '1ef31646-335f-6842-8001-2a1ac974b032'}}) \n",
      "\n",
      "StateSnapshot(values={'lnode': 'node_1', 'scratch': 'hi', 'count': 1}, next=('Node2',), config={'configurable': {'thread_id': '2', 'thread_ts': '1ef31646-335f-6842-8001-2a1ac974b032'}}, metadata={'source': 'loop', 'step': 1, 'writes': {'Node1': {'lnode': 'node_1', 'count': 1}}}, created_at='2024-06-23T13:27:50.274655+00:00', parent_config={'configurable': {'thread_id': '2', 'thread_ts': '1ef31646-335a-6298-8000-5705f0fa13b6'}}) \n",
      "\n",
      "StateSnapshot(values={'scratch': 'hi', 'count': 0}, next=('Node1',), config={'configurable': {'thread_id': '2', 'thread_ts': '1ef31646-335a-6298-8000-5705f0fa13b6'}}, metadata={'source': 'loop', 'step': 0, 'writes': None}, created_at='2024-06-23T13:27:50.272466+00:00', parent_config={'configurable': {'thread_id': '2', 'thread_ts': '1ef31646-3356-6210-bfff-f9e9d385547b'}}) \n",
      "\n",
      "StateSnapshot(values={'count': 0}, next=('__start__',), config={'configurable': {'thread_id': '2', 'thread_ts': '1ef31646-3356-6210-bfff-f9e9d385547b'}}, metadata={'source': 'input', 'step': -1, 'writes': {'count': 0, 'scratch': 'hi'}}, created_at='2024-06-23T13:27:50.270813+00:00', parent_config=None) \n",
      "\n"
     ]
    }
   ],
   "source": [
    "for state in graph.get_state_history(thread2):\n",
    "    print(state,\"\\n\")"
   ]
  },
  {
   "cell_type": "code",
   "execution_count": null,
   "metadata": {},
   "outputs": [],
   "source": []
  }
 ],
 "metadata": {
  "kernelspec": {
   "display_name": "venv",
   "language": "python",
   "name": "python3"
  },
  "language_info": {
   "codemirror_mode": {
    "name": "ipython",
    "version": 3
   },
   "file_extension": ".py",
   "mimetype": "text/x-python",
   "name": "python",
   "nbconvert_exporter": "python",
   "pygments_lexer": "ipython3",
   "version": "3.11.7"
  }
 },
 "nbformat": 4,
 "nbformat_minor": 2
}
