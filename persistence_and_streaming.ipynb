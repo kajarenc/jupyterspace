{
 "cells": [
  {
   "cell_type": "code",
   "execution_count": 1,
   "metadata": {},
   "outputs": [],
   "source": [
    "from dotenv import load_dotenv\n",
    "\n",
    "_ = load_dotenv()"
   ]
  },
  {
   "cell_type": "code",
   "execution_count": 2,
   "metadata": {},
   "outputs": [],
   "source": [
    "from langgraph.graph import StateGraph, END\n",
    "from typing import TypedDict, Annotated\n",
    "import operator\n",
    "from langchain_core.messages import AnyMessage, SystemMessage, HumanMessage, ToolMessage\n",
    "from langchain_openai import ChatOpenAI\n",
    "from langchain_community.tools.tavily_search import TavilySearchResults"
   ]
  },
  {
   "cell_type": "code",
   "execution_count": 3,
   "metadata": {},
   "outputs": [],
   "source": [
    "tool = TavilySearchResults(max_results=2)"
   ]
  },
  {
   "cell_type": "code",
   "execution_count": 4,
   "metadata": {},
   "outputs": [],
   "source": [
    "class AgentState(TypedDict):\n",
    "    messages: Annotated[list[AnyMessage], operator.add]"
   ]
  },
  {
   "cell_type": "code",
   "execution_count": 5,
   "metadata": {},
   "outputs": [],
   "source": [
    "from langgraph.checkpoint.sqlite import SqliteSaver\n",
    "\n",
    "memory = SqliteSaver.from_conn_string(\":memory:\")"
   ]
  },
  {
   "cell_type": "code",
   "execution_count": 6,
   "metadata": {},
   "outputs": [],
   "source": [
    "class Agent:\n",
    "    def __init__(self, model, tools, checkpointer, system=\"\"):\n",
    "        self.system = system\n",
    "        graph = StateGraph(AgentState)\n",
    "        graph.add_node(\"llm\", self.call_openai)\n",
    "        graph.add_node(\"action\", self.take_action)\n",
    "        graph.add_conditional_edges(\"llm\", self.exists_action, {True: \"action\", False: END})\n",
    "        graph.add_edge(\"action\", \"llm\")\n",
    "        graph.set_entry_point(\"llm\")\n",
    "        self.graph = graph.compile(checkpointer=checkpointer)\n",
    "        self.tools = {t.name: t for t in tools}\n",
    "        self.model = model.bind_tools(tools)\n",
    "\n",
    "    def call_openai(self, state: AgentState):\n",
    "        messages = state['messages']\n",
    "        if self.system:\n",
    "            messages = [SystemMessage(content=self.system)] + messages\n",
    "        message = self.model.invoke(messages)\n",
    "        return {'messages': [message]}\n",
    "\n",
    "    def exists_action(self, state: AgentState):\n",
    "        result = state['messages'][-1]\n",
    "        return len(result.tool_calls) > 0\n",
    "\n",
    "    def take_action(self, state: AgentState):\n",
    "        tool_calls = state['messages'][-1].tool_calls\n",
    "        results = []\n",
    "        for t in tool_calls:\n",
    "            print(f\"Calling: {t}\")\n",
    "            result = self.tools[t['name']].invoke(t['args'])\n",
    "            results.append(ToolMessage(tool_call_id=t['id'], name=t['name'], content=str(result)))\n",
    "        print(\"Back to the model!\")\n",
    "        return {'messages': results}"
   ]
  },
  {
   "cell_type": "code",
   "execution_count": 7,
   "metadata": {},
   "outputs": [],
   "source": [
    "prompt = \"\"\"You are a smart research assistant. Use the search engine to look up information. \\\n",
    "You are allowed to make multiple calls (either together or in sequence). \\\n",
    "Only look up information when you are sure of what you want. \\\n",
    "If you need to look up some information before asking a follow up question, you are allowed to do that!\n",
    "\"\"\"\n",
    "model = ChatOpenAI(model=\"gpt-4o\")\n",
    "abot = Agent(model, [tool], system=prompt, checkpointer=memory)"
   ]
  },
  {
   "cell_type": "code",
   "execution_count": 8,
   "metadata": {},
   "outputs": [],
   "source": [
    "messages = [HumanMessage(content=\"What is the weather in Yerevan?\")]"
   ]
  },
  {
   "cell_type": "code",
   "execution_count": 9,
   "metadata": {},
   "outputs": [],
   "source": [
    "thread = {\"configurable\": {\"thread_id\": \"1\"}}"
   ]
  },
  {
   "cell_type": "code",
   "execution_count": 10,
   "metadata": {},
   "outputs": [
    {
     "name": "stdout",
     "output_type": "stream",
     "text": [
      "[AIMessage(content='', additional_kwargs={'tool_calls': [{'id': 'call_LOhP3JiEZXihrg5YmAzPDPZr', 'function': {'arguments': '{\\n  \"query\": \"current weather in Yerevan\"\\n}', 'name': 'tavily_search_results_json'}, 'type': 'function'}]}, response_metadata={'token_usage': {'completion_tokens': 25, 'prompt_tokens': 153, 'total_tokens': 178}, 'model_name': 'gpt-4o-2024-05-13', 'system_fingerprint': 'fp_5e6c71d4a8', 'finish_reason': 'tool_calls', 'logprobs': None}, id='run-5afa8181-6f4e-4422-a9b8-f1c26b720932-0', tool_calls=[{'name': 'tavily_search_results_json', 'args': {'query': 'current weather in Yerevan'}, 'id': 'call_LOhP3JiEZXihrg5YmAzPDPZr'}], usage_metadata={'input_tokens': 153, 'output_tokens': 25, 'total_tokens': 178})]\n",
      "Calling: {'name': 'tavily_search_results_json', 'args': {'query': 'current weather in Yerevan'}, 'id': 'call_LOhP3JiEZXihrg5YmAzPDPZr'}\n",
      "Back to the model!\n",
      "[ToolMessage(content=\"[{'url': 'https://www.accuweather.com/en/am/yerevan/16890/weather-forecast/16890', 'content': 'Yerevan, Yerevan, Armenia Weather Forecast, with current conditions, wind, air quality, and what to expect for the next 3 days.'}, {'url': 'https://www.accuweather.com/en/am/yerevan/16890/current-weather/16890', 'content': 'Current weather in Yerevan, Yerevan, Armenia. Check current conditions in Yerevan, Yerevan, Armenia with radar, hourly, and more.'}]\", name='tavily_search_results_json', tool_call_id='call_LOhP3JiEZXihrg5YmAzPDPZr')]\n",
      "[AIMessage(content='You can find the current weather in Yerevan, Armenia, on the following websites:\\n\\n- [AccuWeather - Yerevan Weather Forecast](https://www.accuweather.com/en/am/yerevan/16890/weather-forecast/16890)\\n- [AccuWeather - Current Weather in Yerevan](https://www.accuweather.com/en/am/yerevan/16890/current-weather/16890)\\n\\nThese pages provide detailed information on the current conditions, including temperature, wind, air quality, and more.', response_metadata={'token_usage': {'completion_tokens': 108, 'prompt_tokens': 316, 'total_tokens': 424}, 'model_name': 'gpt-4o-2024-05-13', 'system_fingerprint': 'fp_5e6c71d4a8', 'finish_reason': 'stop', 'logprobs': None}, id='run-aec77da5-5951-40fb-8504-97b05264597d-0', usage_metadata={'input_tokens': 316, 'output_tokens': 108, 'total_tokens': 424})]\n"
     ]
    }
   ],
   "source": [
    "for event in abot.graph.stream({\"messages\": messages}, thread):\n",
    "    for v in event.values():\n",
    "        print(v['messages'])"
   ]
  },
  {
   "cell_type": "code",
   "execution_count": 11,
   "metadata": {},
   "outputs": [
    {
     "data": {
      "text/plain": [
       "StateSnapshot(values={'messages': [HumanMessage(content='What is the weather in Yerevan?'), AIMessage(content='', additional_kwargs={'tool_calls': [{'id': 'call_LOhP3JiEZXihrg5YmAzPDPZr', 'function': {'arguments': '{\\n  \"query\": \"current weather in Yerevan\"\\n}', 'name': 'tavily_search_results_json'}, 'type': 'function'}]}, response_metadata={'token_usage': {'completion_tokens': 25, 'prompt_tokens': 153, 'total_tokens': 178}, 'model_name': 'gpt-4o-2024-05-13', 'system_fingerprint': 'fp_5e6c71d4a8', 'finish_reason': 'tool_calls', 'logprobs': None}, id='run-5afa8181-6f4e-4422-a9b8-f1c26b720932-0', tool_calls=[{'name': 'tavily_search_results_json', 'args': {'query': 'current weather in Yerevan'}, 'id': 'call_LOhP3JiEZXihrg5YmAzPDPZr'}], usage_metadata={'input_tokens': 153, 'output_tokens': 25, 'total_tokens': 178}), ToolMessage(content=\"[{'url': 'https://www.accuweather.com/en/am/yerevan/16890/weather-forecast/16890', 'content': 'Yerevan, Yerevan, Armenia Weather Forecast, with current conditions, wind, air quality, and what to expect for the next 3 days.'}, {'url': 'https://www.accuweather.com/en/am/yerevan/16890/current-weather/16890', 'content': 'Current weather in Yerevan, Yerevan, Armenia. Check current conditions in Yerevan, Yerevan, Armenia with radar, hourly, and more.'}]\", name='tavily_search_results_json', tool_call_id='call_LOhP3JiEZXihrg5YmAzPDPZr'), AIMessage(content='You can find the current weather in Yerevan, Armenia, on the following websites:\\n\\n- [AccuWeather - Yerevan Weather Forecast](https://www.accuweather.com/en/am/yerevan/16890/weather-forecast/16890)\\n- [AccuWeather - Current Weather in Yerevan](https://www.accuweather.com/en/am/yerevan/16890/current-weather/16890)\\n\\nThese pages provide detailed information on the current conditions, including temperature, wind, air quality, and more.', response_metadata={'token_usage': {'completion_tokens': 108, 'prompt_tokens': 316, 'total_tokens': 424}, 'model_name': 'gpt-4o-2024-05-13', 'system_fingerprint': 'fp_5e6c71d4a8', 'finish_reason': 'stop', 'logprobs': None}, id='run-aec77da5-5951-40fb-8504-97b05264597d-0', usage_metadata={'input_tokens': 316, 'output_tokens': 108, 'total_tokens': 424})]}, next=(), config={'configurable': {'thread_id': '1', 'thread_ts': '1ef2ffcc-bee0-6596-8003-ba5a38dc6642'}}, metadata={'source': 'loop', 'step': 3, 'writes': {'llm': {'messages': [AIMessage(content='You can find the current weather in Yerevan, Armenia, on the following websites:\\n\\n- [AccuWeather - Yerevan Weather Forecast](https://www.accuweather.com/en/am/yerevan/16890/weather-forecast/16890)\\n- [AccuWeather - Current Weather in Yerevan](https://www.accuweather.com/en/am/yerevan/16890/current-weather/16890)\\n\\nThese pages provide detailed information on the current conditions, including temperature, wind, air quality, and more.', response_metadata={'token_usage': {'completion_tokens': 108, 'prompt_tokens': 316, 'total_tokens': 424}, 'model_name': 'gpt-4o-2024-05-13', 'system_fingerprint': 'fp_5e6c71d4a8', 'finish_reason': 'stop', 'logprobs': None}, id='run-aec77da5-5951-40fb-8504-97b05264597d-0', usage_metadata={'input_tokens': 316, 'output_tokens': 108, 'total_tokens': 424})]}}}, created_at='2024-06-21T18:33:47.141248+00:00', parent_config={'configurable': {'thread_id': '1', 'thread_ts': '1ef2ffcc-aa34-6070-8002-82702e6b1f86'}})"
      ]
     },
     "execution_count": 11,
     "metadata": {},
     "output_type": "execute_result"
    }
   ],
   "source": [
    "abot.graph.get_state(thread)"
   ]
  },
  {
   "cell_type": "code",
   "execution_count": 12,
   "metadata": {},
   "outputs": [
    {
     "name": "stdout",
     "output_type": "stream",
     "text": [
      "{'messages': [AIMessage(content='', additional_kwargs={'tool_calls': [{'id': 'call_Cr6sD1Hko8QCxEiCw7qi1z1u', 'function': {'arguments': '{\"query\": \"current weather in Los Angeles\"}', 'name': 'tavily_search_results_json'}, 'type': 'function'}, {'id': 'call_yA8RfXnMYMw97qDUaiubC0bM', 'function': {'arguments': '{\"query\": \"current weather in LA\"}', 'name': 'tavily_search_results_json'}, 'type': 'function'}]}, response_metadata={'token_usage': {'completion_tokens': 59, 'prompt_tokens': 436, 'total_tokens': 495}, 'model_name': 'gpt-4o-2024-05-13', 'system_fingerprint': 'fp_3e7d703517', 'finish_reason': 'tool_calls', 'logprobs': None}, id='run-e5ce3555-5940-4a4b-b656-f360c3e8ad74-0', tool_calls=[{'name': 'tavily_search_results_json', 'args': {'query': 'current weather in Los Angeles'}, 'id': 'call_Cr6sD1Hko8QCxEiCw7qi1z1u'}, {'name': 'tavily_search_results_json', 'args': {'query': 'current weather in LA'}, 'id': 'call_yA8RfXnMYMw97qDUaiubC0bM'}], usage_metadata={'input_tokens': 436, 'output_tokens': 59, 'total_tokens': 495})]}\n",
      "Calling: {'name': 'tavily_search_results_json', 'args': {'query': 'current weather in Los Angeles'}, 'id': 'call_Cr6sD1Hko8QCxEiCw7qi1z1u'}\n",
      "Calling: {'name': 'tavily_search_results_json', 'args': {'query': 'current weather in LA'}, 'id': 'call_yA8RfXnMYMw97qDUaiubC0bM'}\n",
      "Back to the model!\n",
      "{'messages': [ToolMessage(content='[{\\'url\\': \\'https://www.wunderground.com/hourly/us/ca/los-angeles/90007/date/2024-6-21\\', \\'content\\': \\'Los Angeles Weather Forecasts. Weather Underground provides local & long-range weather forecasts, weatherreports, maps & tropical weather conditions for the Los Angeles area. ... Friday 06/21 ...\\'}, {\\'url\\': \\'https://www.weatherapi.com/\\', \\'content\\': \"{\\'location\\': {\\'name\\': \\'Los Angeles\\', \\'region\\': \\'California\\', \\'country\\': \\'United States of America\\', \\'lat\\': 34.05, \\'lon\\': -118.24, \\'tz_id\\': \\'America/Los_Angeles\\', \\'localtime_epoch\\': 1718994984, \\'localtime\\': \\'2024-06-21 11:36\\'}, \\'current\\': {\\'last_updated_epoch\\': 1718994600, \\'last_updated\\': \\'2024-06-21 11:30\\', \\'temp_c\\': 22.8, \\'temp_f\\': 73.0, \\'is_day\\': 1, \\'condition\\': {\\'text\\': \\'Sunny\\', \\'icon\\': \\'//cdn.weatherapi.com/weather/64x64/day/113.png\\', \\'code\\': 1000}, \\'wind_mph\\': 10.5, \\'wind_kph\\': 16.9, \\'wind_degree\\': 260, \\'wind_dir\\': \\'W\\', \\'pressure_mb\\': 1009.0, \\'pressure_in\\': 29.78, \\'precip_mm\\': 0.0, \\'precip_in\\': 0.0, \\'humidity\\': 59, \\'cloud\\': 0, \\'feelslike_c\\': 24.0, \\'feelslike_f\\': 75.2, \\'windchill_c\\': 26.7, \\'windchill_f\\': 80.0, \\'heatindex_c\\': 26.3, \\'heatindex_f\\': 79.3, \\'dewpoint_c\\': 10.5, \\'dewpoint_f\\': 50.8, \\'vis_km\\': 16.0, \\'vis_miles\\': 9.0, \\'uv\\': 7.0, \\'gust_mph\\': 15.0, \\'gust_kph\\': 24.1}}\"}]', name='tavily_search_results_json', tool_call_id='call_Cr6sD1Hko8QCxEiCw7qi1z1u'), ToolMessage(content='[{\\'url\\': \\'https://www.weatherapi.com/\\', \\'content\\': \"{\\'location\\': {\\'name\\': \\'Los Angeles\\', \\'region\\': \\'California\\', \\'country\\': \\'United States of America\\', \\'lat\\': 34.05, \\'lon\\': -118.24, \\'tz_id\\': \\'America/Los_Angeles\\', \\'localtime_epoch\\': 1718994984, \\'localtime\\': \\'2024-06-21 11:36\\'}, \\'current\\': {\\'last_updated_epoch\\': 1718994600, \\'last_updated\\': \\'2024-06-21 11:30\\', \\'temp_c\\': 22.8, \\'temp_f\\': 73.0, \\'is_day\\': 1, \\'condition\\': {\\'text\\': \\'Sunny\\', \\'icon\\': \\'//cdn.weatherapi.com/weather/64x64/day/113.png\\', \\'code\\': 1000}, \\'wind_mph\\': 10.5, \\'wind_kph\\': 16.9, \\'wind_degree\\': 260, \\'wind_dir\\': \\'W\\', \\'pressure_mb\\': 1009.0, \\'pressure_in\\': 29.78, \\'precip_mm\\': 0.0, \\'precip_in\\': 0.0, \\'humidity\\': 59, \\'cloud\\': 0, \\'feelslike_c\\': 24.0, \\'feelslike_f\\': 75.2, \\'windchill_c\\': 26.7, \\'windchill_f\\': 80.0, \\'heatindex_c\\': 26.3, \\'heatindex_f\\': 79.3, \\'dewpoint_c\\': 10.5, \\'dewpoint_f\\': 50.8, \\'vis_km\\': 16.0, \\'vis_miles\\': 9.0, \\'uv\\': 7.0, \\'gust_mph\\': 15.0, \\'gust_kph\\': 24.1}}\"}, {\\'url\\': \\'https://world-weather.info/forecast/usa/los_angeles/june-2024/\\', \\'content\\': \\'Extended weather forecast in Los Angeles. Hourly Week 10 days 14 days 30 days Year. Detailed ⚡ Los Angeles Weather Forecast for June 2024 - day/night 🌡️ temperatures, precipitations - World-Weather.info.\\'}]', name='tavily_search_results_json', tool_call_id='call_yA8RfXnMYMw97qDUaiubC0bM')]}\n",
      "{'messages': [AIMessage(content='You can find the current weather in Los Angeles, California, on the following websites:\\n\\n- [Weather Underground - Los Angeles Weather Forecasts](https://www.wunderground.com/hourly/us/ca/los-angeles/90007/date/2024-6-21)\\n- [WeatherAPI - Los Angeles Current Weather](https://www.weatherapi.com/)\\n- [World-Weather.info - Los Angeles Extended Weather Forecast](https://world-weather.info/forecast/usa/los_angeles/june-2024/)\\n\\nThese pages provide detailed information on current conditions, including temperature, wind, humidity, visibility, and more.', response_metadata={'token_usage': {'completion_tokens': 128, 'prompt_tokens': 1477, 'total_tokens': 1605}, 'model_name': 'gpt-4o-2024-05-13', 'system_fingerprint': 'fp_3e7d703517', 'finish_reason': 'stop', 'logprobs': None}, id='run-c5d9a488-d736-4736-8715-c7145449a014-0', usage_metadata={'input_tokens': 1477, 'output_tokens': 128, 'total_tokens': 1605})]}\n"
     ]
    }
   ],
   "source": [
    "messages = [HumanMessage(content=\"What about in la?\")]\n",
    "thread = {\"configurable\": {\"thread_id\": \"1\"}}\n",
    "for event in abot.graph.stream({\"messages\": messages}, thread):\n",
    "    for v in event.values():\n",
    "        print(v)"
   ]
  },
  {
   "cell_type": "code",
   "execution_count": 13,
   "metadata": {},
   "outputs": [
    {
     "data": {
      "text/plain": [
       "StateSnapshot(values={'messages': [HumanMessage(content='What is the weather in Yerevan?'), AIMessage(content='', additional_kwargs={'tool_calls': [{'id': 'call_LOhP3JiEZXihrg5YmAzPDPZr', 'function': {'arguments': '{\\n  \"query\": \"current weather in Yerevan\"\\n}', 'name': 'tavily_search_results_json'}, 'type': 'function'}]}, response_metadata={'token_usage': {'completion_tokens': 25, 'prompt_tokens': 153, 'total_tokens': 178}, 'model_name': 'gpt-4o-2024-05-13', 'system_fingerprint': 'fp_5e6c71d4a8', 'finish_reason': 'tool_calls', 'logprobs': None}, id='run-5afa8181-6f4e-4422-a9b8-f1c26b720932-0', tool_calls=[{'name': 'tavily_search_results_json', 'args': {'query': 'current weather in Yerevan'}, 'id': 'call_LOhP3JiEZXihrg5YmAzPDPZr'}], usage_metadata={'input_tokens': 153, 'output_tokens': 25, 'total_tokens': 178}), ToolMessage(content=\"[{'url': 'https://www.accuweather.com/en/am/yerevan/16890/weather-forecast/16890', 'content': 'Yerevan, Yerevan, Armenia Weather Forecast, with current conditions, wind, air quality, and what to expect for the next 3 days.'}, {'url': 'https://www.accuweather.com/en/am/yerevan/16890/current-weather/16890', 'content': 'Current weather in Yerevan, Yerevan, Armenia. Check current conditions in Yerevan, Yerevan, Armenia with radar, hourly, and more.'}]\", name='tavily_search_results_json', tool_call_id='call_LOhP3JiEZXihrg5YmAzPDPZr'), AIMessage(content='You can find the current weather in Yerevan, Armenia, on the following websites:\\n\\n- [AccuWeather - Yerevan Weather Forecast](https://www.accuweather.com/en/am/yerevan/16890/weather-forecast/16890)\\n- [AccuWeather - Current Weather in Yerevan](https://www.accuweather.com/en/am/yerevan/16890/current-weather/16890)\\n\\nThese pages provide detailed information on the current conditions, including temperature, wind, air quality, and more.', response_metadata={'token_usage': {'completion_tokens': 108, 'prompt_tokens': 316, 'total_tokens': 424}, 'model_name': 'gpt-4o-2024-05-13', 'system_fingerprint': 'fp_5e6c71d4a8', 'finish_reason': 'stop', 'logprobs': None}, id='run-aec77da5-5951-40fb-8504-97b05264597d-0', usage_metadata={'input_tokens': 316, 'output_tokens': 108, 'total_tokens': 424}), HumanMessage(content='What about in la?'), AIMessage(content='', additional_kwargs={'tool_calls': [{'id': 'call_Cr6sD1Hko8QCxEiCw7qi1z1u', 'function': {'arguments': '{\"query\": \"current weather in Los Angeles\"}', 'name': 'tavily_search_results_json'}, 'type': 'function'}, {'id': 'call_yA8RfXnMYMw97qDUaiubC0bM', 'function': {'arguments': '{\"query\": \"current weather in LA\"}', 'name': 'tavily_search_results_json'}, 'type': 'function'}]}, response_metadata={'token_usage': {'completion_tokens': 59, 'prompt_tokens': 436, 'total_tokens': 495}, 'model_name': 'gpt-4o-2024-05-13', 'system_fingerprint': 'fp_3e7d703517', 'finish_reason': 'tool_calls', 'logprobs': None}, id='run-e5ce3555-5940-4a4b-b656-f360c3e8ad74-0', tool_calls=[{'name': 'tavily_search_results_json', 'args': {'query': 'current weather in Los Angeles'}, 'id': 'call_Cr6sD1Hko8QCxEiCw7qi1z1u'}, {'name': 'tavily_search_results_json', 'args': {'query': 'current weather in LA'}, 'id': 'call_yA8RfXnMYMw97qDUaiubC0bM'}], usage_metadata={'input_tokens': 436, 'output_tokens': 59, 'total_tokens': 495}), ToolMessage(content='[{\\'url\\': \\'https://www.wunderground.com/hourly/us/ca/los-angeles/90007/date/2024-6-21\\', \\'content\\': \\'Los Angeles Weather Forecasts. Weather Underground provides local & long-range weather forecasts, weatherreports, maps & tropical weather conditions for the Los Angeles area. ... Friday 06/21 ...\\'}, {\\'url\\': \\'https://www.weatherapi.com/\\', \\'content\\': \"{\\'location\\': {\\'name\\': \\'Los Angeles\\', \\'region\\': \\'California\\', \\'country\\': \\'United States of America\\', \\'lat\\': 34.05, \\'lon\\': -118.24, \\'tz_id\\': \\'America/Los_Angeles\\', \\'localtime_epoch\\': 1718994984, \\'localtime\\': \\'2024-06-21 11:36\\'}, \\'current\\': {\\'last_updated_epoch\\': 1718994600, \\'last_updated\\': \\'2024-06-21 11:30\\', \\'temp_c\\': 22.8, \\'temp_f\\': 73.0, \\'is_day\\': 1, \\'condition\\': {\\'text\\': \\'Sunny\\', \\'icon\\': \\'//cdn.weatherapi.com/weather/64x64/day/113.png\\', \\'code\\': 1000}, \\'wind_mph\\': 10.5, \\'wind_kph\\': 16.9, \\'wind_degree\\': 260, \\'wind_dir\\': \\'W\\', \\'pressure_mb\\': 1009.0, \\'pressure_in\\': 29.78, \\'precip_mm\\': 0.0, \\'precip_in\\': 0.0, \\'humidity\\': 59, \\'cloud\\': 0, \\'feelslike_c\\': 24.0, \\'feelslike_f\\': 75.2, \\'windchill_c\\': 26.7, \\'windchill_f\\': 80.0, \\'heatindex_c\\': 26.3, \\'heatindex_f\\': 79.3, \\'dewpoint_c\\': 10.5, \\'dewpoint_f\\': 50.8, \\'vis_km\\': 16.0, \\'vis_miles\\': 9.0, \\'uv\\': 7.0, \\'gust_mph\\': 15.0, \\'gust_kph\\': 24.1}}\"}]', name='tavily_search_results_json', tool_call_id='call_Cr6sD1Hko8QCxEiCw7qi1z1u'), ToolMessage(content='[{\\'url\\': \\'https://www.weatherapi.com/\\', \\'content\\': \"{\\'location\\': {\\'name\\': \\'Los Angeles\\', \\'region\\': \\'California\\', \\'country\\': \\'United States of America\\', \\'lat\\': 34.05, \\'lon\\': -118.24, \\'tz_id\\': \\'America/Los_Angeles\\', \\'localtime_epoch\\': 1718994984, \\'localtime\\': \\'2024-06-21 11:36\\'}, \\'current\\': {\\'last_updated_epoch\\': 1718994600, \\'last_updated\\': \\'2024-06-21 11:30\\', \\'temp_c\\': 22.8, \\'temp_f\\': 73.0, \\'is_day\\': 1, \\'condition\\': {\\'text\\': \\'Sunny\\', \\'icon\\': \\'//cdn.weatherapi.com/weather/64x64/day/113.png\\', \\'code\\': 1000}, \\'wind_mph\\': 10.5, \\'wind_kph\\': 16.9, \\'wind_degree\\': 260, \\'wind_dir\\': \\'W\\', \\'pressure_mb\\': 1009.0, \\'pressure_in\\': 29.78, \\'precip_mm\\': 0.0, \\'precip_in\\': 0.0, \\'humidity\\': 59, \\'cloud\\': 0, \\'feelslike_c\\': 24.0, \\'feelslike_f\\': 75.2, \\'windchill_c\\': 26.7, \\'windchill_f\\': 80.0, \\'heatindex_c\\': 26.3, \\'heatindex_f\\': 79.3, \\'dewpoint_c\\': 10.5, \\'dewpoint_f\\': 50.8, \\'vis_km\\': 16.0, \\'vis_miles\\': 9.0, \\'uv\\': 7.0, \\'gust_mph\\': 15.0, \\'gust_kph\\': 24.1}}\"}, {\\'url\\': \\'https://world-weather.info/forecast/usa/los_angeles/june-2024/\\', \\'content\\': \\'Extended weather forecast in Los Angeles. Hourly Week 10 days 14 days 30 days Year. Detailed ⚡ Los Angeles Weather Forecast for June 2024 - day/night 🌡️ temperatures, precipitations - World-Weather.info.\\'}]', name='tavily_search_results_json', tool_call_id='call_yA8RfXnMYMw97qDUaiubC0bM'), AIMessage(content='You can find the current weather in Los Angeles, California, on the following websites:\\n\\n- [Weather Underground - Los Angeles Weather Forecasts](https://www.wunderground.com/hourly/us/ca/los-angeles/90007/date/2024-6-21)\\n- [WeatherAPI - Los Angeles Current Weather](https://www.weatherapi.com/)\\n- [World-Weather.info - Los Angeles Extended Weather Forecast](https://world-weather.info/forecast/usa/los_angeles/june-2024/)\\n\\nThese pages provide detailed information on current conditions, including temperature, wind, humidity, visibility, and more.', response_metadata={'token_usage': {'completion_tokens': 128, 'prompt_tokens': 1477, 'total_tokens': 1605}, 'model_name': 'gpt-4o-2024-05-13', 'system_fingerprint': 'fp_3e7d703517', 'finish_reason': 'stop', 'logprobs': None}, id='run-c5d9a488-d736-4736-8715-c7145449a014-0', usage_metadata={'input_tokens': 1477, 'output_tokens': 128, 'total_tokens': 1605})]}, next=(), config={'configurable': {'thread_id': '1', 'thread_ts': '1ef2ffd4-ce96-6ed8-8008-d27635aed71b'}}, metadata={'source': 'loop', 'step': 8, 'writes': {'llm': {'messages': [AIMessage(content='You can find the current weather in Los Angeles, California, on the following websites:\\n\\n- [Weather Underground - Los Angeles Weather Forecasts](https://www.wunderground.com/hourly/us/ca/los-angeles/90007/date/2024-6-21)\\n- [WeatherAPI - Los Angeles Current Weather](https://www.weatherapi.com/)\\n- [World-Weather.info - Los Angeles Extended Weather Forecast](https://world-weather.info/forecast/usa/los_angeles/june-2024/)\\n\\nThese pages provide detailed information on current conditions, including temperature, wind, humidity, visibility, and more.', response_metadata={'token_usage': {'completion_tokens': 128, 'prompt_tokens': 1477, 'total_tokens': 1605}, 'model_name': 'gpt-4o-2024-05-13', 'system_fingerprint': 'fp_3e7d703517', 'finish_reason': 'stop', 'logprobs': None}, id='run-c5d9a488-d736-4736-8715-c7145449a014-0', usage_metadata={'input_tokens': 1477, 'output_tokens': 128, 'total_tokens': 1605})]}}}, created_at='2024-06-21T18:37:23.537259+00:00', parent_config={'configurable': {'thread_id': '1', 'thread_ts': '1ef2ffd4-aeea-6328-8007-7542d29799c4'}})"
      ]
     },
     "execution_count": 13,
     "metadata": {},
     "output_type": "execute_result"
    }
   ],
   "source": [
    "abot.graph.get_state(thread)"
   ]
  },
  {
   "cell_type": "code",
   "execution_count": 14,
   "metadata": {},
   "outputs": [
    {
     "name": "stdout",
     "output_type": "stream",
     "text": [
      "{'messages': [AIMessage(content=\"To determine which city is currently warmer, let's check the specific temperature details from the provided sources:\\n\\n1. **Yerevan, Armenia:**\\n   - You would need to check the current temperature from one of the provided weather websites for Yerevan, such as [AccuWeather - Current Weather in Yerevan](https://www.accuweather.com/en/am/yerevan/16890/current-weather/16890).\\n\\n2. **Los Angeles, California:**\\n   - According to the [WeatherAPI](https://www.weatherapi.com/) result, the current temperature in Los Angeles is approximately 22.8°C (73°F).\\n\\nPlease check the current temperature for Yerevan from the linked source to compare it with the 22.8°C in Los Angeles. If you want, I can look it up directly for you.\", response_metadata={'token_usage': {'completion_tokens': 171, 'prompt_tokens': 1617, 'total_tokens': 1788}, 'model_name': 'gpt-4o-2024-05-13', 'system_fingerprint': 'fp_3e7d703517', 'finish_reason': 'stop', 'logprobs': None}, id='run-599800a8-71bb-42ed-b321-a79ac347d7b4-0', usage_metadata={'input_tokens': 1617, 'output_tokens': 171, 'total_tokens': 1788})]}\n"
     ]
    }
   ],
   "source": [
    "messages = [HumanMessage(content=\"Which one is warmer?\")]\n",
    "thread = {\"configurable\": {\"thread_id\": \"1\"}}\n",
    "for event in abot.graph.stream({\"messages\": messages}, thread):\n",
    "    for v in event.values():\n",
    "        print(v)"
   ]
  },
  {
   "cell_type": "code",
   "execution_count": 15,
   "metadata": {},
   "outputs": [
    {
     "name": "stdout",
     "output_type": "stream",
     "text": [
      "{'messages': [AIMessage(content='Could you please specify the items or locations you are comparing for warmth? For instance, are you comparing two geographical locations, two types of clothing, seasons, etc.?', response_metadata={'token_usage': {'completion_tokens': 34, 'prompt_tokens': 149, 'total_tokens': 183}, 'model_name': 'gpt-4o-2024-05-13', 'system_fingerprint': 'fp_9cb5d38cf7', 'finish_reason': 'stop', 'logprobs': None}, id='run-59659e53-cab1-42a8-a1df-e4b4993b4683-0', usage_metadata={'input_tokens': 149, 'output_tokens': 34, 'total_tokens': 183})]}\n"
     ]
    }
   ],
   "source": [
    "messages = [HumanMessage(content=\"Which one is warmer?\")]\n",
    "thread = {\"configurable\": {\"thread_id\": \"2\"}}\n",
    "for event in abot.graph.stream({\"messages\": messages}, thread):\n",
    "    for v in event.values():\n",
    "        print(v)"
   ]
  },
  {
   "cell_type": "code",
   "execution_count": 8,
   "metadata": {},
   "outputs": [],
   "source": [
    "from langgraph.checkpoint.aiosqlite import AsyncSqliteSaver\n",
    "\n",
    "memory = AsyncSqliteSaver.from_conn_string(\":memory:\")\n",
    "abot = Agent(model, [tool], system=prompt, checkpointer=memory)"
   ]
  },
  {
   "cell_type": "code",
   "execution_count": 9,
   "metadata": {},
   "outputs": [
    {
     "name": "stderr",
     "output_type": "stream",
     "text": [
      "/Users/kjavadyan/projects/jupyterspace/venv/lib/python3.11/site-packages/langchain_core/_api/beta_decorator.py:87: LangChainBetaWarning: This API is in beta and may change in the future.\n",
      "  warn_beta(\n"
     ]
    },
    {
     "name": "stdout",
     "output_type": "stream",
     "text": [
      "Calling: {'name': 'tavily_search_results_json', 'args': {'query': 'current weather in San Francisco'}, 'id': 'call_G6H8NWIGJCLFt9BDEz1kS3ue'}\n",
      "Back to the model!\n",
      "The| current| weather| in| San| Francisco| is| partly| cloudy| with| a| temperature| of| |16|.|1|°C| (|61|.|0|°F|).| The| wind| is| blowing| from| the| southwest| at| |3|.|6| k|ph| (|2|.|2| mph|).| The| humidity| is| at| |70|%,| and| visibility| is| around| |16| kilometers| (|9| miles|).| The| UV| index| is| |5|.|"
     ]
    }
   ],
   "source": [
    "messages = [HumanMessage(content=\"What is the weather in SF?\")]\n",
    "thread = {\"configurable\": {\"thread_id\": \"4\"}}\n",
    "async for event in abot.graph.astream_events({\"messages\": messages}, thread, version=\"v1\"):\n",
    "    kind = event[\"event\"]\n",
    "    if kind == \"on_chat_model_stream\":\n",
    "        content = event[\"data\"][\"chunk\"].content\n",
    "        if content:\n",
    "            # Empty content in the context of OpenAI means\n",
    "            # that the model is asking for a tool to be invoked.\n",
    "            # So we only print non-empty content\n",
    "            print(content, end=\"|\")"
   ]
  },
  {
   "cell_type": "code",
   "execution_count": null,
   "metadata": {},
   "outputs": [],
   "source": []
  }
 ],
 "metadata": {
  "kernelspec": {
   "display_name": "venv",
   "language": "python",
   "name": "python3"
  },
  "language_info": {
   "codemirror_mode": {
    "name": "ipython",
    "version": 3
   },
   "file_extension": ".py",
   "mimetype": "text/x-python",
   "name": "python",
   "nbconvert_exporter": "python",
   "pygments_lexer": "ipython3",
   "version": "3.11.7"
  }
 },
 "nbformat": 4,
 "nbformat_minor": 2
}
